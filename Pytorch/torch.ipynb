{
  "nbformat": 4,
  "nbformat_minor": 0,
  "metadata": {
    "colab": {
      "name": "numpy.ipynb",
      "provenance": [],
      "collapsed_sections": [],
      "authorship_tag": "ABX9TyOn/rIbKo+JPLBc9kK/nXIt",
      "include_colab_link": true
    },
    "kernelspec": {
      "name": "python3",
      "display_name": "Python 3"
    }
  },
  "cells": [
    {
      "cell_type": "markdown",
      "metadata": {
        "id": "view-in-github",
        "colab_type": "text"
      },
      "source": [
        "<a href=\"https://colab.research.google.com/github/SDB016/Study/blob/main/Pytorch/torch.ipynb\" target=\"_parent\"><img src=\"https://colab.research.google.com/assets/colab-badge.svg\" alt=\"Open In Colab\"/></a>"
      ]
    },
    {
      "cell_type": "markdown",
      "metadata": {
        "id": "PH9GMmWzRP1p"
      },
      "source": [
        "# **numpy VS pytorch**"
      ]
    },
    {
      "cell_type": "markdown",
      "metadata": {
        "id": "8h9-4XD_RUOA"
      },
      "source": [
        "# numpy"
      ]
    },
    {
      "cell_type": "code",
      "metadata": {
        "id": "-kzO7NIaP02h"
      },
      "source": [
        "import numpy as np\r\n",
        "import torch"
      ],
      "execution_count": 1,
      "outputs": []
    },
    {
      "cell_type": "code",
      "metadata": {
        "colab": {
          "base_uri": "https://localhost:8080/"
        },
        "id": "qgkzJSMaQCcu",
        "outputId": "b023a00e-649c-4a7f-8ee8-a28d3da34627"
      },
      "source": [
        "t = np.array([0.,1.,2.,3.,4.,5.,6.])\r\n",
        "print(t)"
      ],
      "execution_count": 2,
      "outputs": [
        {
          "output_type": "stream",
          "text": [
            "[0. 1. 2. 3. 4. 5. 6.]\n"
          ],
          "name": "stdout"
        }
      ]
    },
    {
      "cell_type": "code",
      "metadata": {
        "colab": {
          "base_uri": "https://localhost:8080/"
        },
        "id": "Tc8z6-4HQMfY",
        "outputId": "49379607-0657-429f-b0bb-c10bbae3702b"
      },
      "source": [
        "print(t.ndim)\r\n",
        "print(t.shape)"
      ],
      "execution_count": 3,
      "outputs": [
        {
          "output_type": "stream",
          "text": [
            "1\n",
            "(7,)\n"
          ],
          "name": "stdout"
        }
      ]
    },
    {
      "cell_type": "code",
      "metadata": {
        "colab": {
          "base_uri": "https://localhost:8080/"
        },
        "id": "SLQ3FyQPQUSx",
        "outputId": "12e73ada-8bf9-4939-df98-b321f49bdbab"
      },
      "source": [
        "t = np.array([[0.,1.,2.],[3.,4.,5.]])\r\n",
        "print(t)"
      ],
      "execution_count": 7,
      "outputs": [
        {
          "output_type": "stream",
          "text": [
            "[[0. 1. 2.]\n",
            " [3. 4. 5.]]\n"
          ],
          "name": "stdout"
        }
      ]
    },
    {
      "cell_type": "code",
      "metadata": {
        "colab": {
          "base_uri": "https://localhost:8080/"
        },
        "id": "ZDvG4LemRCW3",
        "outputId": "3e3f2fc6-2d70-45dd-8f0b-51fc5dc45671"
      },
      "source": [
        "print(t.ndim)\r\n",
        "print(t.shape)"
      ],
      "execution_count": 8,
      "outputs": [
        {
          "output_type": "stream",
          "text": [
            "2\n",
            "(2, 3)\n"
          ],
          "name": "stdout"
        }
      ]
    },
    {
      "cell_type": "markdown",
      "metadata": {
        "id": "89MEgXI0RW3F"
      },
      "source": [
        "# pytorch"
      ]
    },
    {
      "cell_type": "code",
      "metadata": {
        "colab": {
          "base_uri": "https://localhost:8080/"
        },
        "id": "WEgL3QXHRNLt",
        "outputId": "1723d3cc-5c9b-447c-db66-84687b426c63"
      },
      "source": [
        "t = torch.FloatTensor([0.,1.,2.,3.,4.,5.,6.])\r\n",
        "print(t)"
      ],
      "execution_count": 9,
      "outputs": [
        {
          "output_type": "stream",
          "text": [
            "tensor([0., 1., 2., 3., 4., 5., 6.])\n"
          ],
          "name": "stdout"
        }
      ]
    },
    {
      "cell_type": "code",
      "metadata": {
        "colab": {
          "base_uri": "https://localhost:8080/"
        },
        "id": "LI8Up9BuRhwB",
        "outputId": "08eb567d-2faa-4cc0-daf3-7409e0170126"
      },
      "source": [
        "print(t.dim())\r\n",
        "print(t.shape)\r\n",
        "print(t.size())"
      ],
      "execution_count": 11,
      "outputs": [
        {
          "output_type": "stream",
          "text": [
            "1\n",
            "torch.Size([7])\n",
            "torch.Size([7])\n"
          ],
          "name": "stdout"
        }
      ]
    },
    {
      "cell_type": "code",
      "metadata": {
        "colab": {
          "base_uri": "https://localhost:8080/"
        },
        "id": "gGuUKoOiRlQN",
        "outputId": "a1a2d2c4-b6d8-4d41-b61e-08642cc32aa2"
      },
      "source": [
        "t = torch.FloatTensor([[0.,1.,2.],[3.,4.,5.]])\r\n",
        "print(t)"
      ],
      "execution_count": 12,
      "outputs": [
        {
          "output_type": "stream",
          "text": [
            "tensor([[0., 1., 2.],\n",
            "        [3., 4., 5.]])\n"
          ],
          "name": "stdout"
        }
      ]
    },
    {
      "cell_type": "code",
      "metadata": {
        "colab": {
          "base_uri": "https://localhost:8080/"
        },
        "id": "qcNSmq4GRvXQ",
        "outputId": "45b076bf-1043-4658-c44e-ef785589c777"
      },
      "source": [
        "print(t.dim())\r\n",
        "print(t.shape)\r\n",
        "print(t.size())"
      ],
      "execution_count": 13,
      "outputs": [
        {
          "output_type": "stream",
          "text": [
            "2\n",
            "torch.Size([2, 3])\n",
            "torch.Size([2, 3])\n"
          ],
          "name": "stdout"
        }
      ]
    },
    {
      "cell_type": "markdown",
      "metadata": {
        "id": "SLfPypD0SGoJ"
      },
      "source": [
        "# **Broadcasting**"
      ]
    },
    {
      "cell_type": "code",
      "metadata": {
        "colab": {
          "base_uri": "https://localhost:8080/"
        },
        "id": "f25UenZzSGSq",
        "outputId": "9178ca0e-ae23-458b-fa95-67e0e0ce110a"
      },
      "source": [
        "#Same dim\r\n",
        "m1 = torch.FloatTensor([3,3])\r\n",
        "m2 = torch.FloatTensor([2,3])\r\n",
        "print(m1+m2)"
      ],
      "execution_count": 14,
      "outputs": [
        {
          "output_type": "stream",
          "text": [
            "tensor([5., 6.])\n"
          ],
          "name": "stdout"
        }
      ]
    },
    {
      "cell_type": "code",
      "metadata": {
        "colab": {
          "base_uri": "https://localhost:8080/"
        },
        "id": "vDs_e-nIST07",
        "outputId": "d450187b-5a40-4849-e26b-509dc4a4b1b6"
      },
      "source": [
        "#Vector + Scalar\r\n",
        "m1 = torch.FloatTensor([3,3,4])\r\n",
        "m2 = torch.FloatTensor([2]) # torch.FloatTensor([2,2,2])\r\n",
        "print(m1+m2)"
      ],
      "execution_count": 16,
      "outputs": [
        {
          "output_type": "stream",
          "text": [
            "tensor([5., 5., 6.])\n"
          ],
          "name": "stdout"
        }
      ]
    },
    {
      "cell_type": "code",
      "metadata": {
        "colab": {
          "base_uri": "https://localhost:8080/"
        },
        "id": "BUMBJ1tJSezJ",
        "outputId": "185815e7-5b52-4b5f-e057-df1387185185"
      },
      "source": [
        "#2x1 vector + 1x2 vector\r\n",
        "m1 = torch.FloatTensor([[3,3]]) #torch.FloatTensor([[3,3],[3,3]])\r\n",
        "m2 = torch.FloatTensor([[2],[3]])#torch.FloatTensor([[2,2],[3,3]])\r\n",
        "print(m1+m2)"
      ],
      "execution_count": 18,
      "outputs": [
        {
          "output_type": "stream",
          "text": [
            "tensor([[5., 5.],\n",
            "        [6., 6.]])\n"
          ],
          "name": "stdout"
        }
      ]
    },
    {
      "cell_type": "markdown",
      "metadata": {
        "id": "DRAhFbswUK58"
      },
      "source": [
        "# **Mean**"
      ]
    },
    {
      "cell_type": "code",
      "metadata": {
        "colab": {
          "base_uri": "https://localhost:8080/"
        },
        "id": "1i3C5XWDUJwJ",
        "outputId": "65514aca-19f1-448c-824e-e50e0cbea37f"
      },
      "source": [
        "t = torch.FloatTensor([1,2])\r\n",
        "print(t.mean())"
      ],
      "execution_count": 19,
      "outputs": [
        {
          "output_type": "stream",
          "text": [
            "tensor(1.5000)\n"
          ],
          "name": "stdout"
        }
      ]
    },
    {
      "cell_type": "code",
      "metadata": {
        "colab": {
          "base_uri": "https://localhost:8080/"
        },
        "id": "0jR4ytSRUWGn",
        "outputId": "07f6e827-a2a7-4d5a-95b9-aa32151463a6"
      },
      "source": [
        "t = torch.FloatTensor([[1,2],[3,4]])\r\n",
        "print(t)"
      ],
      "execution_count": 21,
      "outputs": [
        {
          "output_type": "stream",
          "text": [
            "tensor([[1., 2.],\n",
            "        [3., 4.]])\n"
          ],
          "name": "stdout"
        }
      ]
    },
    {
      "cell_type": "code",
      "metadata": {
        "colab": {
          "base_uri": "https://localhost:8080/"
        },
        "id": "QlOT1ojyUf70",
        "outputId": "179df87d-6c1a-41f4-b3aa-0b71a5fe039b"
      },
      "source": [
        "print(t.mean())\r\n",
        "print(t.mean(dim = 0))\r\n",
        "print(t.mean(dim = 1))\r\n",
        "print(t.mean(dim = -1))"
      ],
      "execution_count": 22,
      "outputs": [
        {
          "output_type": "stream",
          "text": [
            "tensor(2.5000)\n",
            "tensor([2., 3.])\n",
            "tensor([1.5000, 3.5000])\n",
            "tensor([1.5000, 3.5000])\n"
          ],
          "name": "stdout"
        }
      ]
    },
    {
      "cell_type": "markdown",
      "metadata": {
        "id": "xpQ3dPGhUr1N"
      },
      "source": [
        "# **SUM**"
      ]
    },
    {
      "cell_type": "code",
      "metadata": {
        "colab": {
          "base_uri": "https://localhost:8080/"
        },
        "id": "vVqyOL7rUtpD",
        "outputId": "4ccc5be6-9270-4946-e395-63fd7e501a42"
      },
      "source": [
        "t = torch.FloatTensor([[1,2],[3,4]])\r\n",
        "print(t)"
      ],
      "execution_count": 23,
      "outputs": [
        {
          "output_type": "stream",
          "text": [
            "tensor([[1., 2.],\n",
            "        [3., 4.]])\n"
          ],
          "name": "stdout"
        }
      ]
    },
    {
      "cell_type": "code",
      "metadata": {
        "colab": {
          "base_uri": "https://localhost:8080/"
        },
        "id": "F7ekhBhwUzlw",
        "outputId": "73ed350a-3853-44fd-f23d-c7725472b45f"
      },
      "source": [
        "print(t.sum())\r\n",
        "print(t.sum(dim = 0))\r\n",
        "print(t.sum(dim = 1))\r\n",
        "print(t.sum(dim = -1))"
      ],
      "execution_count": 24,
      "outputs": [
        {
          "output_type": "stream",
          "text": [
            "tensor(10.)\n",
            "tensor([4., 6.])\n",
            "tensor([3., 7.])\n",
            "tensor([3., 7.])\n"
          ],
          "name": "stdout"
        }
      ]
    },
    {
      "cell_type": "markdown",
      "metadata": {
        "id": "MWravkBqVFBP"
      },
      "source": [
        "# **MAX & Argmax**"
      ]
    },
    {
      "cell_type": "code",
      "metadata": {
        "colab": {
          "base_uri": "https://localhost:8080/"
        },
        "id": "H0hUt7IMVH9I",
        "outputId": "cfaf91a6-6e9f-49da-98b3-b554eea318a0"
      },
      "source": [
        "t = torch.FloatTensor([[1,2],[3,4]])\r\n",
        "print(t)"
      ],
      "execution_count": 25,
      "outputs": [
        {
          "output_type": "stream",
          "text": [
            "tensor([[1., 2.],\n",
            "        [3., 4.]])\n"
          ],
          "name": "stdout"
        }
      ]
    },
    {
      "cell_type": "code",
      "metadata": {
        "colab": {
          "base_uri": "https://localhost:8080/"
        },
        "id": "aIl5DzuwVJC4",
        "outputId": "1167f331-fcf8-41c3-d485-5951e731c216"
      },
      "source": [
        "print(t.max())"
      ],
      "execution_count": 26,
      "outputs": [
        {
          "output_type": "stream",
          "text": [
            "tensor(4.)\n"
          ],
          "name": "stdout"
        }
      ]
    },
    {
      "cell_type": "code",
      "metadata": {
        "colab": {
          "base_uri": "https://localhost:8080/"
        },
        "id": "ccfDZgbCVLBX",
        "outputId": "0e7b93b1-c095-43c0-9ba2-d283e1c1bf46"
      },
      "source": [
        "print(t.max(dim = 0))\r\n",
        "print('Max: ', t.max(dim = 0)[0])\r\n",
        "print('Argmax: ', t.max(dim = 0)[1])"
      ],
      "execution_count": 27,
      "outputs": [
        {
          "output_type": "stream",
          "text": [
            "torch.return_types.max(\n",
            "values=tensor([3., 4.]),\n",
            "indices=tensor([1, 1]))\n",
            "Max:  tensor([3., 4.])\n",
            "Argmax:  tensor([1, 1])\n"
          ],
          "name": "stdout"
        }
      ]
    },
    {
      "cell_type": "markdown",
      "metadata": {
        "id": "XgzsntRCeREn"
      },
      "source": [
        "# **View (Reshape)**"
      ]
    },
    {
      "cell_type": "code",
      "metadata": {
        "colab": {
          "base_uri": "https://localhost:8080/"
        },
        "id": "-pdOyUaGeSuB",
        "outputId": "3d2cc2ac-3b60-42bb-a2cc-f55797100fe4"
      },
      "source": [
        "t = np.array([[[0,1,2],\r\n",
        "               [3,4,5]],\r\n",
        "              [[6,7,8],\r\n",
        "              [9,10,11]]])\r\n",
        "ft = torch.FloatTensor(t)\r\n",
        "print(ft.shape)"
      ],
      "execution_count": 30,
      "outputs": [
        {
          "output_type": "stream",
          "text": [
            "torch.Size([2, 2, 3])\n"
          ],
          "name": "stdout"
        }
      ]
    },
    {
      "cell_type": "code",
      "metadata": {
        "colab": {
          "base_uri": "https://localhost:8080/"
        },
        "id": "Bc1UbkD4e_KF",
        "outputId": "ee756855-341a-493e-bd96-0a41410e9608"
      },
      "source": [
        "print(ft.view([-1,3])) #I don't know the first variable,but the second is 3\r\n",
        "print(ft.view([-1,3]).shape) #(2,2,3) -> (2x2,3)"
      ],
      "execution_count": 31,
      "outputs": [
        {
          "output_type": "stream",
          "text": [
            "tensor([[ 0.,  1.,  2.],\n",
            "        [ 3.,  4.,  5.],\n",
            "        [ 6.,  7.,  8.],\n",
            "        [ 9., 10., 11.]])\n",
            "torch.Size([4, 3])\n"
          ],
          "name": "stdout"
        }
      ]
    },
    {
      "cell_type": "code",
      "metadata": {
        "colab": {
          "base_uri": "https://localhost:8080/"
        },
        "id": "q-e3ybJ1fksB",
        "outputId": "9f13adf2-a74e-4a22-a732-2bf358839bcb"
      },
      "source": [
        "print(ft.view([-1,1,3]))\r\n",
        "print(ft.view([-1,1,3]).shape) "
      ],
      "execution_count": 32,
      "outputs": [
        {
          "output_type": "stream",
          "text": [
            "tensor([[[ 0.,  1.,  2.]],\n",
            "\n",
            "        [[ 3.,  4.,  5.]],\n",
            "\n",
            "        [[ 6.,  7.,  8.]],\n",
            "\n",
            "        [[ 9., 10., 11.]]])\n",
            "torch.Size([4, 1, 3])\n"
          ],
          "name": "stdout"
        }
      ]
    },
    {
      "cell_type": "markdown",
      "metadata": {
        "id": "-_d9EKThfvZ1"
      },
      "source": [
        "# **Squeeze**"
      ]
    },
    {
      "cell_type": "code",
      "metadata": {
        "colab": {
          "base_uri": "https://localhost:8080/"
        },
        "id": "hZcajwFYfxfK",
        "outputId": "2b277e72-0893-47cc-87c5-1db3a758ffc8"
      },
      "source": [
        "ft = torch.FloatTensor([[0],[1],[2]])\r\n",
        "print(ft.shape)"
      ],
      "execution_count": 34,
      "outputs": [
        {
          "output_type": "stream",
          "text": [
            "torch.Size([3, 1])\n"
          ],
          "name": "stdout"
        }
      ]
    },
    {
      "cell_type": "code",
      "metadata": {
        "colab": {
          "base_uri": "https://localhost:8080/"
        },
        "id": "nR9_VyW_f66o",
        "outputId": "2477832d-b95f-4e75-e822-7bf34357cb63"
      },
      "source": [
        "print(ft.squeeze())\r\n",
        "print(ft.squeeze().shape)"
      ],
      "execution_count": 35,
      "outputs": [
        {
          "output_type": "stream",
          "text": [
            "tensor([0., 1., 2.])\n",
            "torch.Size([3])\n"
          ],
          "name": "stdout"
        }
      ]
    },
    {
      "cell_type": "markdown",
      "metadata": {
        "id": "LbWow2bwgPLS"
      },
      "source": [
        "# **Unsqueeze**"
      ]
    },
    {
      "cell_type": "code",
      "metadata": {
        "colab": {
          "base_uri": "https://localhost:8080/"
        },
        "id": "7EFuViqfgSq9",
        "outputId": "64710ad0-2f5b-4d1c-d147-7934128a9496"
      },
      "source": [
        "ft = torch.Tensor([0,1,2])\r\n",
        "print(ft.shape)"
      ],
      "execution_count": 36,
      "outputs": [
        {
          "output_type": "stream",
          "text": [
            "torch.Size([3])\n"
          ],
          "name": "stdout"
        }
      ]
    },
    {
      "cell_type": "code",
      "metadata": {
        "colab": {
          "base_uri": "https://localhost:8080/"
        },
        "id": "6LpNLy-4gYWt",
        "outputId": "04a9ccb1-d566-47c0-970f-fd03826cb180"
      },
      "source": [
        "print(ft.unsqueeze(0)) #dim = 0\r\n",
        "print(ft.unsqueeze(0).shape) # insert 1 to index 0"
      ],
      "execution_count": 37,
      "outputs": [
        {
          "output_type": "stream",
          "text": [
            "tensor([[0., 1., 2.]])\n",
            "torch.Size([1, 3])\n"
          ],
          "name": "stdout"
        }
      ]
    },
    {
      "cell_type": "code",
      "metadata": {
        "colab": {
          "base_uri": "https://localhost:8080/"
        },
        "id": "YNAh-mp9gfOk",
        "outputId": "a9a60b8a-d42c-4449-bbbc-1e585b751268"
      },
      "source": [
        "print(ft.view(1,-1))\r\n",
        "print(ft.view(1,-1).shape)"
      ],
      "execution_count": 38,
      "outputs": [
        {
          "output_type": "stream",
          "text": [
            "tensor([[0., 1., 2.]])\n",
            "torch.Size([1, 3])\n"
          ],
          "name": "stdout"
        }
      ]
    },
    {
      "cell_type": "code",
      "metadata": {
        "colab": {
          "base_uri": "https://localhost:8080/"
        },
        "id": "rHb7BY6bg1Ye",
        "outputId": "2a7ccb2d-a883-4e8d-a44e-dc202df05621"
      },
      "source": [
        "print(ft.unsqueeze(1)) #dim = 1\r\n",
        "print(ft.unsqueeze(1).shape) # insert 1 to index 1"
      ],
      "execution_count": 39,
      "outputs": [
        {
          "output_type": "stream",
          "text": [
            "tensor([[0.],\n",
            "        [1.],\n",
            "        [2.]])\n",
            "torch.Size([3, 1])\n"
          ],
          "name": "stdout"
        }
      ]
    },
    {
      "cell_type": "code",
      "metadata": {
        "colab": {
          "base_uri": "https://localhost:8080/"
        },
        "id": "aYvA7aP0g7ZJ",
        "outputId": "d13fa740-9e39-403d-cfbc-ee6165e74119"
      },
      "source": [
        "print(ft.unsqueeze(-1))\r\n",
        "print(ft.unsqueeze(-1).shape) # insert 1 to index -1 (last index)"
      ],
      "execution_count": 41,
      "outputs": [
        {
          "output_type": "stream",
          "text": [
            "tensor([[0.],\n",
            "        [1.],\n",
            "        [2.]])\n",
            "torch.Size([3, 1])\n"
          ],
          "name": "stdout"
        }
      ]
    },
    {
      "cell_type": "markdown",
      "metadata": {
        "id": "ADsW7rrGhScG"
      },
      "source": [
        "# **Type Casting**"
      ]
    },
    {
      "cell_type": "code",
      "metadata": {
        "colab": {
          "base_uri": "https://localhost:8080/"
        },
        "id": "jPzNnItGhU4f",
        "outputId": "9fd243e1-f72f-4a80-9414-a4e7ed148818"
      },
      "source": [
        "lt = torch.LongTensor([1,2,3,4])\r\n",
        "print(lt)"
      ],
      "execution_count": 42,
      "outputs": [
        {
          "output_type": "stream",
          "text": [
            "tensor([1, 2, 3, 4])\n"
          ],
          "name": "stdout"
        }
      ]
    },
    {
      "cell_type": "code",
      "metadata": {
        "colab": {
          "base_uri": "https://localhost:8080/"
        },
        "id": "kb9SyaiVha0-",
        "outputId": "a6b39b0f-3942-41b0-ad07-6279614563f1"
      },
      "source": [
        "print(lt.float())"
      ],
      "execution_count": 43,
      "outputs": [
        {
          "output_type": "stream",
          "text": [
            "tensor([1., 2., 3., 4.])\n"
          ],
          "name": "stdout"
        }
      ]
    },
    {
      "cell_type": "code",
      "metadata": {
        "colab": {
          "base_uri": "https://localhost:8080/"
        },
        "id": "VJ2MwMMXheF9",
        "outputId": "255f401c-4117-4e56-f7aa-e7c9175111c2"
      },
      "source": [
        "bt = torch.ByteTensor([True,False,True,True])\r\n",
        "print(bt)"
      ],
      "execution_count": 45,
      "outputs": [
        {
          "output_type": "stream",
          "text": [
            "tensor([1, 0, 1, 1], dtype=torch.uint8)\n"
          ],
          "name": "stdout"
        }
      ]
    },
    {
      "cell_type": "markdown",
      "metadata": {
        "id": "AT8tV13thtjY"
      },
      "source": [
        "# **Concatenate**"
      ]
    },
    {
      "cell_type": "code",
      "metadata": {
        "id": "-JlsMikOhtAQ"
      },
      "source": [
        "x = torch.Tensor([[1,2],[3,4]])\r\n",
        "y = torch.Tensor([[3,4],[5,6]])"
      ],
      "execution_count": 46,
      "outputs": []
    },
    {
      "cell_type": "code",
      "metadata": {
        "colab": {
          "base_uri": "https://localhost:8080/"
        },
        "id": "KPfLs3dyiDIX",
        "outputId": "60e22365-899e-484e-e8f2-120692e82bd0"
      },
      "source": [
        "print(torch.cat([x,y],dim = 0))\r\n",
        "print(torch.cat([x,y],dim = 1))"
      ],
      "execution_count": 49,
      "outputs": [
        {
          "output_type": "stream",
          "text": [
            "tensor([[1., 2.],\n",
            "        [3., 4.],\n",
            "        [3., 4.],\n",
            "        [5., 6.]])\n",
            "tensor([[1., 2., 3., 4.],\n",
            "        [3., 4., 5., 6.]])\n"
          ],
          "name": "stdout"
        }
      ]
    },
    {
      "cell_type": "markdown",
      "metadata": {
        "id": "s2DUZ8MZiXhH"
      },
      "source": [
        "# **Stacking**"
      ]
    },
    {
      "cell_type": "code",
      "metadata": {
        "id": "bXOkoak5iXTr"
      },
      "source": [
        "x = torch.Tensor([1,2])\r\n",
        "y = torch.Tensor([3,4])\r\n",
        "z = torch.Tensor([5,6])"
      ],
      "execution_count": 50,
      "outputs": []
    },
    {
      "cell_type": "code",
      "metadata": {
        "colab": {
          "base_uri": "https://localhost:8080/"
        },
        "id": "nZ8SzRj0iXSB",
        "outputId": "db8aed9e-11c6-4ece-b825-77074f8677c6"
      },
      "source": [
        "print(torch.stack([x,y,z]))\r\n",
        "print(torch.stack([x,y,z],dim = 1))"
      ],
      "execution_count": 52,
      "outputs": [
        {
          "output_type": "stream",
          "text": [
            "tensor([[1., 2.],\n",
            "        [3., 4.],\n",
            "        [5., 6.]])\n",
            "tensor([[1., 3., 5.],\n",
            "        [2., 4., 6.]])\n"
          ],
          "name": "stdout"
        }
      ]
    },
    {
      "cell_type": "code",
      "metadata": {
        "colab": {
          "base_uri": "https://localhost:8080/"
        },
        "id": "LTYMJL1jitvg",
        "outputId": "7005e640-06fa-4155-8f1f-76ef5935ba5c"
      },
      "source": [
        "print(torch.cat([x.unsqueeze(0), y.unsqueeze(0),z.unsqueeze(0)],dim = 0)) #print(torch.stack([x,y,z]))"
      ],
      "execution_count": 53,
      "outputs": [
        {
          "output_type": "stream",
          "text": [
            "tensor([[1., 2.],\n",
            "        [3., 4.],\n",
            "        [5., 6.]])\n"
          ],
          "name": "stdout"
        }
      ]
    },
    {
      "cell_type": "markdown",
      "metadata": {
        "id": "f5J-R5hAjSom"
      },
      "source": [
        "# **Ones and Zeros**"
      ]
    },
    {
      "cell_type": "code",
      "metadata": {
        "colab": {
          "base_uri": "https://localhost:8080/"
        },
        "id": "dwzceF_UjU9o",
        "outputId": "fd8d8e18-111c-4058-b5cb-911671b6e3f8"
      },
      "source": [
        "x = torch.FloatTensor([[0,1,2],[2,1,0]])\r\n",
        "print(x)"
      ],
      "execution_count": 54,
      "outputs": [
        {
          "output_type": "stream",
          "text": [
            "tensor([[0., 1., 2.],\n",
            "        [2., 1., 0.]])\n"
          ],
          "name": "stdout"
        }
      ]
    },
    {
      "cell_type": "code",
      "metadata": {
        "colab": {
          "base_uri": "https://localhost:8080/"
        },
        "id": "oBU9HBTBjbxa",
        "outputId": "e75bc07a-97cf-43e5-c0be-57cbc4d938a3"
      },
      "source": [
        "print(torch.ones_like(x))\r\n",
        "print(torch.zeros_like(x))"
      ],
      "execution_count": 55,
      "outputs": [
        {
          "output_type": "stream",
          "text": [
            "tensor([[1., 1., 1.],\n",
            "        [1., 1., 1.]])\n",
            "tensor([[0., 0., 0.],\n",
            "        [0., 0., 0.]])\n"
          ],
          "name": "stdout"
        }
      ]
    },
    {
      "cell_type": "markdown",
      "metadata": {
        "id": "utU7SUG0jucL"
      },
      "source": [
        "# **In-place Operation**"
      ]
    },
    {
      "cell_type": "code",
      "metadata": {
        "id": "AgPddIHMjzUZ"
      },
      "source": [
        "x = torch.FloatTensor([[1,2],[3,4]])"
      ],
      "execution_count": 56,
      "outputs": []
    },
    {
      "cell_type": "code",
      "metadata": {
        "colab": {
          "base_uri": "https://localhost:8080/"
        },
        "id": "6BM4xL-tj34N",
        "outputId": "cf3e1d5b-960c-463c-a68c-eebb53d1b65a"
      },
      "source": [
        "print(x.mul(2.))\r\n",
        "print(x)\r\n",
        "\r\n",
        "print(x.mul_(2.))\r\n",
        "print(x)"
      ],
      "execution_count": 58,
      "outputs": [
        {
          "output_type": "stream",
          "text": [
            "tensor([[2., 4.],\n",
            "        [6., 8.]])\n",
            "tensor([[1., 2.],\n",
            "        [3., 4.]])\n",
            "tensor([[2., 4.],\n",
            "        [6., 8.]])\n",
            "tensor([[2., 4.],\n",
            "        [6., 8.]])\n"
          ],
          "name": "stdout"
        }
      ]
    },
    {
      "cell_type": "markdown",
      "metadata": {
        "id": "XvsAXnCyTUnK"
      },
      "source": [
        "출처: https://github.com/deeplearningzerotoall/PyTorch/blob/master"
      ]
    }
  ]
}
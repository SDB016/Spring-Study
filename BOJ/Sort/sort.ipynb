{
  "nbformat": 4,
  "nbformat_minor": 0,
  "metadata": {
    "colab": {
      "name": "sort.ipynb",
      "provenance": [],
      "collapsed_sections": [],
      "authorship_tag": "ABX9TyOMz8p85eW5gfLW2j/hh7ic",
      "include_colab_link": true
    },
    "kernelspec": {
      "name": "python3",
      "display_name": "Python 3"
    }
  },
  "cells": [
    {
      "cell_type": "markdown",
      "metadata": {
        "id": "view-in-github",
        "colab_type": "text"
      },
      "source": [
        "<a href=\"https://colab.research.google.com/github/SDB016/Study/blob/main/BOJ/Sort/sort.ipynb\" target=\"_parent\"><img src=\"https://colab.research.google.com/assets/colab-badge.svg\" alt=\"Open In Colab\"/></a>"
      ]
    },
    {
      "cell_type": "markdown",
      "metadata": {
        "id": "Wk-HGm0elRZl"
      },
      "source": [
        "# **선택 정렬 소스코드**"
      ]
    },
    {
      "cell_type": "code",
      "metadata": {
        "id": "6AXdy8pbisgr"
      },
      "source": [
        "array = [7, 9, 5 ,0, 1, 3, 2, 4, 8, 6]\r\n",
        "\r\n",
        "for i in range(len(array)):\r\n",
        "    min_index = i\r\n",
        "    for j in range(i+1, len(array)):\r\n",
        "        if array[min_index] > array[j]:\r\n",
        "            min_index = j\r\n",
        "    array[i], array[min_index] = array[min_index], array[i]\r\n",
        "    \r\n",
        "print(array)"
      ],
      "execution_count": null,
      "outputs": []
    },
    {
      "cell_type": "markdown",
      "metadata": {
        "id": "WUv5v_f8mf3e"
      },
      "source": [
        "# **삽입 정렬 소스코드**"
      ]
    },
    {
      "cell_type": "code",
      "metadata": {
        "id": "HXXekPyym45f"
      },
      "source": [
        "array = [7, 9, 5 ,0, 1, 3, 2, 4, 8, 6]\r\n",
        "\r\n",
        "for i in range(1, len(array)):\r\n",
        "    for j in range(i,0,-1):\r\n",
        "        if array[j] < array[j-1]:\r\n",
        "            array[j], array[j-1] = array[j-1], array[j]\r\n",
        "        else: break\r\n",
        "\r\n",
        "print(array)"
      ],
      "execution_count": null,
      "outputs": []
    },
    {
      "cell_type": "markdown",
      "metadata": {
        "id": "zL34QmkrnN7H"
      },
      "source": [
        "# **퀵 정렬 소스코드**"
      ]
    },
    {
      "cell_type": "markdown",
      "metadata": {
        "id": "3suKb37HtITC"
      },
      "source": [
        "일반적 코드"
      ]
    },
    {
      "cell_type": "code",
      "metadata": {
        "id": "w79WCWWgsdIg"
      },
      "source": [
        "array = [7, 9, 5 ,0, 1, 3, 2, 4, 8, 6]\r\n",
        "\r\n",
        "def quick_sort(array, start, end):\r\n",
        "    if start >= end:\r\n",
        "        return\r\n",
        "    pivot = start\r\n",
        "    left = start + 1\r\n",
        "    right = end\r\n",
        "    while(left <= right):\r\n",
        "        #피벗보다 큰 데이터를 찾을 때 까지\r\n",
        "        while(left <= end and array[left] <= array[pivot]):\r\n",
        "            left += 1\r\n",
        "        #피벗보다 작은 데이터를 찾을 때 까지\r\n",
        "        while(right > start and array[right] >= array[pivot]):\r\n",
        "            right -= 1\r\n",
        "        if left > right: # 엇갈리면 작은 데이터와 피벗 교체\r\n",
        "            array[right], array[pivot] = array[pivot], array[right]\r\n",
        "        else: # 엇갈리지 않았다면 작은 데이터와 큰 데이터를 교체\r\n",
        "            array[left], array[right] = array[right], array[left]\r\n",
        "    #분할 이후 왼쪽 부분과 오른쪽 부분에서 각각 정렬 수행\r\n",
        "    quick_sort(array, start, right-1)\r\n",
        "    quick_sort(array, right + 1, end)\r\n",
        "    \r\n",
        "quick_sort(array, 0, len(array) - 1)\r\n",
        "print(array)"
      ],
      "execution_count": null,
      "outputs": []
    },
    {
      "cell_type": "markdown",
      "metadata": {
        "id": "Z8RJyrb_tJ7j"
      },
      "source": [
        "Advanced 코드"
      ]
    },
    {
      "cell_type": "code",
      "metadata": {
        "id": "MqeYQjiWtO_6"
      },
      "source": [
        "array = [7, 9, 5 ,0, 1, 3, 2, 4, 8, 6]\r\n",
        "\r\n",
        "def quick_sort(array):\r\n",
        "    if len(array) <= 1:\r\n",
        "        return array\r\n",
        "    pivot = array[0]\r\n",
        "    tail = array[1:]\r\n",
        "\r\n",
        "    left = [x for x in tail if x <= pivot]\r\n",
        "    right = [x for x in tail if x > pivot]\r\n",
        "\r\n",
        "    return quick_sort(left) + [pivot] + quick_sort(right)\r\n",
        "\r\n",
        "print(quick_sort(array))"
      ],
      "execution_count": null,
      "outputs": []
    },
    {
      "cell_type": "markdown",
      "metadata": {
        "id": "bTma6b2UtR0u"
      },
      "source": [
        "# **계수 정렬 소스코드**"
      ]
    },
    {
      "cell_type": "code",
      "metadata": {
        "id": "0I0Ks3gBtUL_"
      },
      "source": [
        "array = [7, 9, 5 ,0, 7, 1, 3, 2, 0, 4, 8, 9, 1, 2, 6]\r\n",
        "\r\n",
        "count = [0] * (max(array) + 1)\r\n",
        "\r\n",
        "for i in range(len(array)):\r\n",
        "    count[array[i]] += 1\r\n",
        "\r\n",
        "for i in range(len(count)):\r\n",
        "    for j in range(count[i]):\r\n",
        "        print(i, end = ' ')"
      ],
      "execution_count": null,
      "outputs": []
    }
  ]
}
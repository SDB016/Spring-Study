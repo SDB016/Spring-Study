{
  "nbformat": 4,
  "nbformat_minor": 0,
  "metadata": {
    "colab": {
      "name": "Application of Pandas.ipynb",
      "provenance": [],
      "collapsed_sections": []
    },
    "kernelspec": {
      "name": "python3",
      "display_name": "Python 3"
    }
  },
  "cells": [
    {
      "cell_type": "code",
      "metadata": {
        "id": "Go-NERc773A9"
      },
      "source": [
        "import pandas as pd\r\n",
        "import numpy as np"
      ],
      "execution_count": 1,
      "outputs": []
    },
    {
      "cell_type": "markdown",
      "metadata": {
        "id": "VsoCSkCra-em"
      },
      "source": [
        "**CSV파일 불러오기**"
      ]
    },
    {
      "cell_type": "code",
      "metadata": {
        "id": "LUNWSr2S-xDD"
      },
      "source": [
        "df = pd.read_csv('./data.csv', encoding='euc-kr')"
      ],
      "execution_count": 3,
      "outputs": []
    },
    {
      "cell_type": "markdown",
      "metadata": {
        "id": "rGizuCBPa8zt"
      },
      "source": [
        "**살펴보기**"
      ]
    },
    {
      "cell_type": "code",
      "metadata": {
        "colab": {
          "base_uri": "https://localhost:8080/",
          "height": 198
        },
        "id": "j2N6-176_HVy",
        "outputId": "31952146-08c3-461c-b4fa-5485908cbef5"
      },
      "source": [
        "df.head()"
      ],
      "execution_count": 4,
      "outputs": [
        {
          "output_type": "execute_result",
          "data": {
            "text/html": [
              "<div>\n",
              "<style scoped>\n",
              "    .dataframe tbody tr th:only-of-type {\n",
              "        vertical-align: middle;\n",
              "    }\n",
              "\n",
              "    .dataframe tbody tr th {\n",
              "        vertical-align: top;\n",
              "    }\n",
              "\n",
              "    .dataframe thead th {\n",
              "        text-align: right;\n",
              "    }\n",
              "</style>\n",
              "<table border=\"1\" class=\"dataframe\">\n",
              "  <thead>\n",
              "    <tr style=\"text-align: right;\">\n",
              "      <th></th>\n",
              "      <th>지역명</th>\n",
              "      <th>규모구분</th>\n",
              "      <th>연도</th>\n",
              "      <th>월</th>\n",
              "      <th>분양가격(㎡)</th>\n",
              "    </tr>\n",
              "  </thead>\n",
              "  <tbody>\n",
              "    <tr>\n",
              "      <th>0</th>\n",
              "      <td>서울</td>\n",
              "      <td>전체</td>\n",
              "      <td>2015</td>\n",
              "      <td>10</td>\n",
              "      <td>5841</td>\n",
              "    </tr>\n",
              "    <tr>\n",
              "      <th>1</th>\n",
              "      <td>서울</td>\n",
              "      <td>전용면적 60㎡이하</td>\n",
              "      <td>2015</td>\n",
              "      <td>10</td>\n",
              "      <td>5652</td>\n",
              "    </tr>\n",
              "    <tr>\n",
              "      <th>2</th>\n",
              "      <td>서울</td>\n",
              "      <td>전용면적 60㎡초과 85㎡이하</td>\n",
              "      <td>2015</td>\n",
              "      <td>10</td>\n",
              "      <td>5882</td>\n",
              "    </tr>\n",
              "    <tr>\n",
              "      <th>3</th>\n",
              "      <td>서울</td>\n",
              "      <td>전용면적 85㎡초과 102㎡이하</td>\n",
              "      <td>2015</td>\n",
              "      <td>10</td>\n",
              "      <td>5721</td>\n",
              "    </tr>\n",
              "    <tr>\n",
              "      <th>4</th>\n",
              "      <td>서울</td>\n",
              "      <td>전용면적 102㎡초과</td>\n",
              "      <td>2015</td>\n",
              "      <td>10</td>\n",
              "      <td>5879</td>\n",
              "    </tr>\n",
              "  </tbody>\n",
              "</table>\n",
              "</div>"
            ],
            "text/plain": [
              "  지역명               규모구분    연도   월 분양가격(㎡)\n",
              "0  서울                 전체  2015  10    5841\n",
              "1  서울         전용면적 60㎡이하  2015  10    5652\n",
              "2  서울   전용면적 60㎡초과 85㎡이하  2015  10    5882\n",
              "3  서울  전용면적 85㎡초과 102㎡이하  2015  10    5721\n",
              "4  서울        전용면적 102㎡초과  2015  10    5879"
            ]
          },
          "metadata": {
            "tags": []
          },
          "execution_count": 4
        }
      ]
    },
    {
      "cell_type": "code",
      "metadata": {
        "colab": {
          "base_uri": "https://localhost:8080/",
          "height": 198
        },
        "id": "HkFrTPJg_-4w",
        "outputId": "8e0981dc-1fbb-4d35-896e-54fb605da3a3"
      },
      "source": [
        "df.tail()"
      ],
      "execution_count": null,
      "outputs": [
        {
          "output_type": "execute_result",
          "data": {
            "text/html": [
              "<div>\n",
              "<style scoped>\n",
              "    .dataframe tbody tr th:only-of-type {\n",
              "        vertical-align: middle;\n",
              "    }\n",
              "\n",
              "    .dataframe tbody tr th {\n",
              "        vertical-align: top;\n",
              "    }\n",
              "\n",
              "    .dataframe thead th {\n",
              "        text-align: right;\n",
              "    }\n",
              "</style>\n",
              "<table border=\"1\" class=\"dataframe\">\n",
              "  <thead>\n",
              "    <tr style=\"text-align: right;\">\n",
              "      <th></th>\n",
              "      <th>지역명</th>\n",
              "      <th>규모구분</th>\n",
              "      <th>연도</th>\n",
              "      <th>월</th>\n",
              "      <th>분양가격(㎡)</th>\n",
              "    </tr>\n",
              "  </thead>\n",
              "  <tbody>\n",
              "    <tr>\n",
              "      <th>4585</th>\n",
              "      <td>제주</td>\n",
              "      <td>전체</td>\n",
              "      <td>2020</td>\n",
              "      <td>3</td>\n",
              "      <td>3955</td>\n",
              "    </tr>\n",
              "    <tr>\n",
              "      <th>4586</th>\n",
              "      <td>제주</td>\n",
              "      <td>전용면적 60㎡이하</td>\n",
              "      <td>2020</td>\n",
              "      <td>3</td>\n",
              "      <td>4039</td>\n",
              "    </tr>\n",
              "    <tr>\n",
              "      <th>4587</th>\n",
              "      <td>제주</td>\n",
              "      <td>전용면적 60㎡초과 85㎡이하</td>\n",
              "      <td>2020</td>\n",
              "      <td>3</td>\n",
              "      <td>3962</td>\n",
              "    </tr>\n",
              "    <tr>\n",
              "      <th>4588</th>\n",
              "      <td>제주</td>\n",
              "      <td>전용면적 85㎡초과 102㎡이하</td>\n",
              "      <td>2020</td>\n",
              "      <td>3</td>\n",
              "      <td>NaN</td>\n",
              "    </tr>\n",
              "    <tr>\n",
              "      <th>4589</th>\n",
              "      <td>제주</td>\n",
              "      <td>전용면적 102㎡초과</td>\n",
              "      <td>2020</td>\n",
              "      <td>3</td>\n",
              "      <td>3601</td>\n",
              "    </tr>\n",
              "  </tbody>\n",
              "</table>\n",
              "</div>"
            ],
            "text/plain": [
              "     지역명               규모구분    연도  월 분양가격(㎡)\n",
              "4585  제주                 전체  2020  3    3955\n",
              "4586  제주         전용면적 60㎡이하  2020  3    4039\n",
              "4587  제주   전용면적 60㎡초과 85㎡이하  2020  3    3962\n",
              "4588  제주  전용면적 85㎡초과 102㎡이하  2020  3     NaN\n",
              "4589  제주        전용면적 102㎡초과  2020  3    3601"
            ]
          },
          "metadata": {
            "tags": []
          },
          "execution_count": 10
        }
      ]
    },
    {
      "cell_type": "markdown",
      "metadata": {
        "id": "Qf4usWehbH2t"
      },
      "source": [
        "**COLUMN 이름 바꾸기**"
      ]
    },
    {
      "cell_type": "code",
      "metadata": {
        "colab": {
          "base_uri": "https://localhost:8080/",
          "height": 198
        },
        "id": "SSKm6Lo2Andn",
        "outputId": "7a53fca0-eb64-47fe-8ec7-98a7804e4aee"
      },
      "source": [
        "df=df.rename(columns={'분양가격(㎡)':'분양가'})\r\n",
        "df.head()"
      ],
      "execution_count": null,
      "outputs": [
        {
          "output_type": "execute_result",
          "data": {
            "text/html": [
              "<div>\n",
              "<style scoped>\n",
              "    .dataframe tbody tr th:only-of-type {\n",
              "        vertical-align: middle;\n",
              "    }\n",
              "\n",
              "    .dataframe tbody tr th {\n",
              "        vertical-align: top;\n",
              "    }\n",
              "\n",
              "    .dataframe thead th {\n",
              "        text-align: right;\n",
              "    }\n",
              "</style>\n",
              "<table border=\"1\" class=\"dataframe\">\n",
              "  <thead>\n",
              "    <tr style=\"text-align: right;\">\n",
              "      <th></th>\n",
              "      <th>지역명</th>\n",
              "      <th>규모구분</th>\n",
              "      <th>연도</th>\n",
              "      <th>월</th>\n",
              "      <th>분양가</th>\n",
              "    </tr>\n",
              "  </thead>\n",
              "  <tbody>\n",
              "    <tr>\n",
              "      <th>0</th>\n",
              "      <td>서울</td>\n",
              "      <td>전체</td>\n",
              "      <td>2015</td>\n",
              "      <td>10</td>\n",
              "      <td>5841</td>\n",
              "    </tr>\n",
              "    <tr>\n",
              "      <th>1</th>\n",
              "      <td>서울</td>\n",
              "      <td>전용면적 60㎡이하</td>\n",
              "      <td>2015</td>\n",
              "      <td>10</td>\n",
              "      <td>5652</td>\n",
              "    </tr>\n",
              "    <tr>\n",
              "      <th>2</th>\n",
              "      <td>서울</td>\n",
              "      <td>전용면적 60㎡초과 85㎡이하</td>\n",
              "      <td>2015</td>\n",
              "      <td>10</td>\n",
              "      <td>5882</td>\n",
              "    </tr>\n",
              "    <tr>\n",
              "      <th>3</th>\n",
              "      <td>서울</td>\n",
              "      <td>전용면적 85㎡초과 102㎡이하</td>\n",
              "      <td>2015</td>\n",
              "      <td>10</td>\n",
              "      <td>5721</td>\n",
              "    </tr>\n",
              "    <tr>\n",
              "      <th>4</th>\n",
              "      <td>서울</td>\n",
              "      <td>전용면적 102㎡초과</td>\n",
              "      <td>2015</td>\n",
              "      <td>10</td>\n",
              "      <td>5879</td>\n",
              "    </tr>\n",
              "  </tbody>\n",
              "</table>\n",
              "</div>"
            ],
            "text/plain": [
              "  지역명               규모구분    연도   월   분양가\n",
              "0  서울                 전체  2015  10  5841\n",
              "1  서울         전용면적 60㎡이하  2015  10  5652\n",
              "2  서울   전용면적 60㎡초과 85㎡이하  2015  10  5882\n",
              "3  서울  전용면적 85㎡초과 102㎡이하  2015  10  5721\n",
              "4  서울        전용면적 102㎡초과  2015  10  5879"
            ]
          },
          "metadata": {
            "tags": []
          },
          "execution_count": 18
        }
      ]
    },
    {
      "cell_type": "markdown",
      "metadata": {
        "id": "P4JIaaY8bM-a"
      },
      "source": [
        "**Data Type 보기**"
      ]
    },
    {
      "cell_type": "code",
      "metadata": {
        "colab": {
          "base_uri": "https://localhost:8080/"
        },
        "id": "rvhbTJUAA47d",
        "outputId": "c762c108-ea25-4f12-f82b-ab5db72a0f69"
      },
      "source": [
        "df.dtypes"
      ],
      "execution_count": null,
      "outputs": [
        {
          "output_type": "execute_result",
          "data": {
            "text/plain": [
              "지역명     object\n",
              "규모구분    object\n",
              "연도       int64\n",
              "월        int64\n",
              "분양가     object\n",
              "dtype: object"
            ]
          },
          "metadata": {
            "tags": []
          },
          "execution_count": 19
        }
      ]
    },
    {
      "cell_type": "code",
      "metadata": {
        "colab": {
          "base_uri": "https://localhost:8080/",
          "height": 198
        },
        "id": "H4Rn1VO-BHp0",
        "outputId": "825744d1-eb1f-4b73-8234-f365db7c4e36"
      },
      "source": [
        "df['분양가'] = df['분양가'].apply(pd.to_numeric, errors = 'coerce')\r\n",
        "df.dtypes\r\n",
        "df.head()"
      ],
      "execution_count": null,
      "outputs": [
        {
          "output_type": "execute_result",
          "data": {
            "text/html": [
              "<div>\n",
              "<style scoped>\n",
              "    .dataframe tbody tr th:only-of-type {\n",
              "        vertical-align: middle;\n",
              "    }\n",
              "\n",
              "    .dataframe tbody tr th {\n",
              "        vertical-align: top;\n",
              "    }\n",
              "\n",
              "    .dataframe thead th {\n",
              "        text-align: right;\n",
              "    }\n",
              "</style>\n",
              "<table border=\"1\" class=\"dataframe\">\n",
              "  <thead>\n",
              "    <tr style=\"text-align: right;\">\n",
              "      <th></th>\n",
              "      <th>지역명</th>\n",
              "      <th>규모구분</th>\n",
              "      <th>연도</th>\n",
              "      <th>월</th>\n",
              "      <th>분양가</th>\n",
              "    </tr>\n",
              "  </thead>\n",
              "  <tbody>\n",
              "    <tr>\n",
              "      <th>0</th>\n",
              "      <td>서울</td>\n",
              "      <td>전체</td>\n",
              "      <td>2015</td>\n",
              "      <td>10</td>\n",
              "      <td>5841.0</td>\n",
              "    </tr>\n",
              "    <tr>\n",
              "      <th>1</th>\n",
              "      <td>서울</td>\n",
              "      <td>전용면적 60㎡이하</td>\n",
              "      <td>2015</td>\n",
              "      <td>10</td>\n",
              "      <td>5652.0</td>\n",
              "    </tr>\n",
              "    <tr>\n",
              "      <th>2</th>\n",
              "      <td>서울</td>\n",
              "      <td>전용면적 60㎡초과 85㎡이하</td>\n",
              "      <td>2015</td>\n",
              "      <td>10</td>\n",
              "      <td>5882.0</td>\n",
              "    </tr>\n",
              "    <tr>\n",
              "      <th>3</th>\n",
              "      <td>서울</td>\n",
              "      <td>전용면적 85㎡초과 102㎡이하</td>\n",
              "      <td>2015</td>\n",
              "      <td>10</td>\n",
              "      <td>5721.0</td>\n",
              "    </tr>\n",
              "    <tr>\n",
              "      <th>4</th>\n",
              "      <td>서울</td>\n",
              "      <td>전용면적 102㎡초과</td>\n",
              "      <td>2015</td>\n",
              "      <td>10</td>\n",
              "      <td>5879.0</td>\n",
              "    </tr>\n",
              "  </tbody>\n",
              "</table>\n",
              "</div>"
            ],
            "text/plain": [
              "  지역명               규모구분    연도   월     분양가\n",
              "0  서울                 전체  2015  10  5841.0\n",
              "1  서울         전용면적 60㎡이하  2015  10  5652.0\n",
              "2  서울   전용면적 60㎡초과 85㎡이하  2015  10  5882.0\n",
              "3  서울  전용면적 85㎡초과 102㎡이하  2015  10  5721.0\n",
              "4  서울        전용면적 102㎡초과  2015  10  5879.0"
            ]
          },
          "metadata": {
            "tags": []
          },
          "execution_count": 24
        }
      ]
    },
    {
      "cell_type": "markdown",
      "metadata": {
        "id": "ytBfRQxubRSF"
      },
      "source": [
        "**Numpy array로 변환**"
      ]
    },
    {
      "cell_type": "code",
      "metadata": {
        "colab": {
          "base_uri": "https://localhost:8080/"
        },
        "id": "stKfxwsBBmeu",
        "outputId": "9475cf0a-e991-49c1-9415-209082060112"
      },
      "source": [
        "arr = df.to_numpy()\r\n",
        "arr"
      ],
      "execution_count": null,
      "outputs": [
        {
          "output_type": "execute_result",
          "data": {
            "text/plain": [
              "array([['서울', '전체', 2015, 10, 5841.0],\n",
              "       ['서울', '전용면적 60㎡이하', 2015, 10, 5652.0],\n",
              "       ['서울', '전용면적 60㎡초과 85㎡이하', 2015, 10, 5882.0],\n",
              "       ...,\n",
              "       ['제주', '전용면적 60㎡초과 85㎡이하', 2020, 3, 3962.0],\n",
              "       ['제주', '전용면적 85㎡초과 102㎡이하', 2020, 3, nan],\n",
              "       ['제주', '전용면적 102㎡초과', 2020, 3, 3601.0]], dtype=object)"
            ]
          },
          "metadata": {
            "tags": []
          },
          "execution_count": 28
        }
      ]
    },
    {
      "cell_type": "code",
      "metadata": {
        "colab": {
          "base_uri": "https://localhost:8080/"
        },
        "id": "y7fnbS-cERwY",
        "outputId": "42559225-ffe8-4ef3-dae3-00ee00a79a9c"
      },
      "source": [
        "len(arr)"
      ],
      "execution_count": null,
      "outputs": [
        {
          "output_type": "execute_result",
          "data": {
            "text/plain": [
              "4590"
            ]
          },
          "metadata": {
            "tags": []
          },
          "execution_count": 29
        }
      ]
    },
    {
      "cell_type": "code",
      "metadata": {
        "colab": {
          "base_uri": "https://localhost:8080/"
        },
        "id": "JqHOW36FE2Ov",
        "outputId": "64412635-e82f-490c-d580-6a9f9ca6e160"
      },
      "source": [
        "print(arr[0], arr[1])"
      ],
      "execution_count": null,
      "outputs": [
        {
          "output_type": "stream",
          "text": [
            "['서울' '전체' 2015 10 5841.0] ['서울' '전용면적 60㎡이하' 2015 10 5652.0]\n"
          ],
          "name": "stdout"
        }
      ]
    },
    {
      "cell_type": "code",
      "metadata": {
        "colab": {
          "base_uri": "https://localhost:8080/"
        },
        "id": "MFrZVkySFBMs",
        "outputId": "f9f2e32c-cd2c-4c9d-a616-26b04c966f1a"
      },
      "source": [
        "print(arr[0][0])"
      ],
      "execution_count": null,
      "outputs": [
        {
          "output_type": "stream",
          "text": [
            "서울\n"
          ],
          "name": "stdout"
        }
      ]
    },
    {
      "cell_type": "markdown",
      "metadata": {
        "id": "Wyy7yTeTbVeF"
      },
      "source": [
        "**간단한 통계**"
      ]
    },
    {
      "cell_type": "code",
      "metadata": {
        "colab": {
          "base_uri": "https://localhost:8080/",
          "height": 288
        },
        "id": "bUYQVdbsFaoS",
        "outputId": "0b7b7bf1-b9a5-4e42-8ea7-90341a1b07c4"
      },
      "source": [
        "df.describe()"
      ],
      "execution_count": null,
      "outputs": [
        {
          "output_type": "execute_result",
          "data": {
            "text/html": [
              "<div>\n",
              "<style scoped>\n",
              "    .dataframe tbody tr th:only-of-type {\n",
              "        vertical-align: middle;\n",
              "    }\n",
              "\n",
              "    .dataframe tbody tr th {\n",
              "        vertical-align: top;\n",
              "    }\n",
              "\n",
              "    .dataframe thead th {\n",
              "        text-align: right;\n",
              "    }\n",
              "</style>\n",
              "<table border=\"1\" class=\"dataframe\">\n",
              "  <thead>\n",
              "    <tr style=\"text-align: right;\">\n",
              "      <th></th>\n",
              "      <th>연도</th>\n",
              "      <th>월</th>\n",
              "      <th>분양가</th>\n",
              "    </tr>\n",
              "  </thead>\n",
              "  <tbody>\n",
              "    <tr>\n",
              "      <th>count</th>\n",
              "      <td>4590.000000</td>\n",
              "      <td>4590.000000</td>\n",
              "      <td>4260.000000</td>\n",
              "    </tr>\n",
              "    <tr>\n",
              "      <th>mean</th>\n",
              "      <td>2017.500000</td>\n",
              "      <td>6.500000</td>\n",
              "      <td>3270.160798</td>\n",
              "    </tr>\n",
              "    <tr>\n",
              "      <th>std</th>\n",
              "      <td>1.343856</td>\n",
              "      <td>3.594368</td>\n",
              "      <td>1300.362742</td>\n",
              "    </tr>\n",
              "    <tr>\n",
              "      <th>min</th>\n",
              "      <td>2015.000000</td>\n",
              "      <td>1.000000</td>\n",
              "      <td>1868.000000</td>\n",
              "    </tr>\n",
              "    <tr>\n",
              "      <th>25%</th>\n",
              "      <td>2016.000000</td>\n",
              "      <td>3.000000</td>\n",
              "      <td>2454.750000</td>\n",
              "    </tr>\n",
              "    <tr>\n",
              "      <th>50%</th>\n",
              "      <td>2017.500000</td>\n",
              "      <td>6.500000</td>\n",
              "      <td>2890.000000</td>\n",
              "    </tr>\n",
              "    <tr>\n",
              "      <th>75%</th>\n",
              "      <td>2019.000000</td>\n",
              "      <td>10.000000</td>\n",
              "      <td>3601.000000</td>\n",
              "    </tr>\n",
              "    <tr>\n",
              "      <th>max</th>\n",
              "      <td>2020.000000</td>\n",
              "      <td>12.000000</td>\n",
              "      <td>13835.000000</td>\n",
              "    </tr>\n",
              "  </tbody>\n",
              "</table>\n",
              "</div>"
            ],
            "text/plain": [
              "                연도            월           분양가\n",
              "count  4590.000000  4590.000000   4260.000000\n",
              "mean   2017.500000     6.500000   3270.160798\n",
              "std       1.343856     3.594368   1300.362742\n",
              "min    2015.000000     1.000000   1868.000000\n",
              "25%    2016.000000     3.000000   2454.750000\n",
              "50%    2017.500000     6.500000   2890.000000\n",
              "75%    2019.000000    10.000000   3601.000000\n",
              "max    2020.000000    12.000000  13835.000000"
            ]
          },
          "metadata": {
            "tags": []
          },
          "execution_count": 34
        }
      ]
    },
    {
      "cell_type": "markdown",
      "metadata": {
        "id": "8kzSOnzJbXwE"
      },
      "source": [
        "**축 변환하기**"
      ]
    },
    {
      "cell_type": "code",
      "metadata": {
        "colab": {
          "base_uri": "https://localhost:8080/",
          "height": 437
        },
        "id": "mzKAzg52F9Md",
        "outputId": "5be5f3bd-26ee-4be9-9205-b983f7bde986"
      },
      "source": [
        "df.T.head()"
      ],
      "execution_count": null,
      "outputs": [
        {
          "output_type": "execute_result",
          "data": {
            "text/html": [
              "<div>\n",
              "<style scoped>\n",
              "    .dataframe tbody tr th:only-of-type {\n",
              "        vertical-align: middle;\n",
              "    }\n",
              "\n",
              "    .dataframe tbody tr th {\n",
              "        vertical-align: top;\n",
              "    }\n",
              "\n",
              "    .dataframe thead th {\n",
              "        text-align: right;\n",
              "    }\n",
              "</style>\n",
              "<table border=\"1\" class=\"dataframe\">\n",
              "  <thead>\n",
              "    <tr style=\"text-align: right;\">\n",
              "      <th></th>\n",
              "      <th>0</th>\n",
              "      <th>1</th>\n",
              "      <th>2</th>\n",
              "      <th>3</th>\n",
              "      <th>4</th>\n",
              "      <th>5</th>\n",
              "      <th>6</th>\n",
              "      <th>7</th>\n",
              "      <th>8</th>\n",
              "      <th>9</th>\n",
              "      <th>10</th>\n",
              "      <th>11</th>\n",
              "      <th>12</th>\n",
              "      <th>13</th>\n",
              "      <th>14</th>\n",
              "      <th>15</th>\n",
              "      <th>16</th>\n",
              "      <th>17</th>\n",
              "      <th>18</th>\n",
              "      <th>19</th>\n",
              "      <th>20</th>\n",
              "      <th>21</th>\n",
              "      <th>22</th>\n",
              "      <th>23</th>\n",
              "      <th>24</th>\n",
              "      <th>25</th>\n",
              "      <th>26</th>\n",
              "      <th>27</th>\n",
              "      <th>28</th>\n",
              "      <th>29</th>\n",
              "      <th>30</th>\n",
              "      <th>31</th>\n",
              "      <th>32</th>\n",
              "      <th>33</th>\n",
              "      <th>34</th>\n",
              "      <th>35</th>\n",
              "      <th>36</th>\n",
              "      <th>37</th>\n",
              "      <th>38</th>\n",
              "      <th>39</th>\n",
              "      <th>...</th>\n",
              "      <th>4550</th>\n",
              "      <th>4551</th>\n",
              "      <th>4552</th>\n",
              "      <th>4553</th>\n",
              "      <th>4554</th>\n",
              "      <th>4555</th>\n",
              "      <th>4556</th>\n",
              "      <th>4557</th>\n",
              "      <th>4558</th>\n",
              "      <th>4559</th>\n",
              "      <th>4560</th>\n",
              "      <th>4561</th>\n",
              "      <th>4562</th>\n",
              "      <th>4563</th>\n",
              "      <th>4564</th>\n",
              "      <th>4565</th>\n",
              "      <th>4566</th>\n",
              "      <th>4567</th>\n",
              "      <th>4568</th>\n",
              "      <th>4569</th>\n",
              "      <th>4570</th>\n",
              "      <th>4571</th>\n",
              "      <th>4572</th>\n",
              "      <th>4573</th>\n",
              "      <th>4574</th>\n",
              "      <th>4575</th>\n",
              "      <th>4576</th>\n",
              "      <th>4577</th>\n",
              "      <th>4578</th>\n",
              "      <th>4579</th>\n",
              "      <th>4580</th>\n",
              "      <th>4581</th>\n",
              "      <th>4582</th>\n",
              "      <th>4583</th>\n",
              "      <th>4584</th>\n",
              "      <th>4585</th>\n",
              "      <th>4586</th>\n",
              "      <th>4587</th>\n",
              "      <th>4588</th>\n",
              "      <th>4589</th>\n",
              "    </tr>\n",
              "  </thead>\n",
              "  <tbody>\n",
              "    <tr>\n",
              "      <th>지역명</th>\n",
              "      <td>서울</td>\n",
              "      <td>서울</td>\n",
              "      <td>서울</td>\n",
              "      <td>서울</td>\n",
              "      <td>서울</td>\n",
              "      <td>인천</td>\n",
              "      <td>인천</td>\n",
              "      <td>인천</td>\n",
              "      <td>인천</td>\n",
              "      <td>인천</td>\n",
              "      <td>경기</td>\n",
              "      <td>경기</td>\n",
              "      <td>경기</td>\n",
              "      <td>경기</td>\n",
              "      <td>경기</td>\n",
              "      <td>부산</td>\n",
              "      <td>부산</td>\n",
              "      <td>부산</td>\n",
              "      <td>부산</td>\n",
              "      <td>부산</td>\n",
              "      <td>대구</td>\n",
              "      <td>대구</td>\n",
              "      <td>대구</td>\n",
              "      <td>대구</td>\n",
              "      <td>대구</td>\n",
              "      <td>광주</td>\n",
              "      <td>광주</td>\n",
              "      <td>광주</td>\n",
              "      <td>광주</td>\n",
              "      <td>광주</td>\n",
              "      <td>대전</td>\n",
              "      <td>대전</td>\n",
              "      <td>대전</td>\n",
              "      <td>대전</td>\n",
              "      <td>대전</td>\n",
              "      <td>울산</td>\n",
              "      <td>울산</td>\n",
              "      <td>울산</td>\n",
              "      <td>울산</td>\n",
              "      <td>울산</td>\n",
              "      <td>...</td>\n",
              "      <td>강원</td>\n",
              "      <td>강원</td>\n",
              "      <td>강원</td>\n",
              "      <td>강원</td>\n",
              "      <td>강원</td>\n",
              "      <td>충북</td>\n",
              "      <td>충북</td>\n",
              "      <td>충북</td>\n",
              "      <td>충북</td>\n",
              "      <td>충북</td>\n",
              "      <td>충남</td>\n",
              "      <td>충남</td>\n",
              "      <td>충남</td>\n",
              "      <td>충남</td>\n",
              "      <td>충남</td>\n",
              "      <td>전북</td>\n",
              "      <td>전북</td>\n",
              "      <td>전북</td>\n",
              "      <td>전북</td>\n",
              "      <td>전북</td>\n",
              "      <td>전남</td>\n",
              "      <td>전남</td>\n",
              "      <td>전남</td>\n",
              "      <td>전남</td>\n",
              "      <td>전남</td>\n",
              "      <td>경북</td>\n",
              "      <td>경북</td>\n",
              "      <td>경북</td>\n",
              "      <td>경북</td>\n",
              "      <td>경북</td>\n",
              "      <td>경남</td>\n",
              "      <td>경남</td>\n",
              "      <td>경남</td>\n",
              "      <td>경남</td>\n",
              "      <td>경남</td>\n",
              "      <td>제주</td>\n",
              "      <td>제주</td>\n",
              "      <td>제주</td>\n",
              "      <td>제주</td>\n",
              "      <td>제주</td>\n",
              "    </tr>\n",
              "    <tr>\n",
              "      <th>규모구분</th>\n",
              "      <td>전체</td>\n",
              "      <td>전용면적 60㎡이하</td>\n",
              "      <td>전용면적 60㎡초과 85㎡이하</td>\n",
              "      <td>전용면적 85㎡초과 102㎡이하</td>\n",
              "      <td>전용면적 102㎡초과</td>\n",
              "      <td>전체</td>\n",
              "      <td>전용면적 60㎡이하</td>\n",
              "      <td>전용면적 60㎡초과 85㎡이하</td>\n",
              "      <td>전용면적 85㎡초과 102㎡이하</td>\n",
              "      <td>전용면적 102㎡초과</td>\n",
              "      <td>전체</td>\n",
              "      <td>전용면적 60㎡이하</td>\n",
              "      <td>전용면적 60㎡초과 85㎡이하</td>\n",
              "      <td>전용면적 85㎡초과 102㎡이하</td>\n",
              "      <td>전용면적 102㎡초과</td>\n",
              "      <td>전체</td>\n",
              "      <td>전용면적 60㎡이하</td>\n",
              "      <td>전용면적 60㎡초과 85㎡이하</td>\n",
              "      <td>전용면적 85㎡초과 102㎡이하</td>\n",
              "      <td>전용면적 102㎡초과</td>\n",
              "      <td>전체</td>\n",
              "      <td>전용면적 60㎡이하</td>\n",
              "      <td>전용면적 60㎡초과 85㎡이하</td>\n",
              "      <td>전용면적 85㎡초과 102㎡이하</td>\n",
              "      <td>전용면적 102㎡초과</td>\n",
              "      <td>전체</td>\n",
              "      <td>전용면적 60㎡이하</td>\n",
              "      <td>전용면적 60㎡초과 85㎡이하</td>\n",
              "      <td>전용면적 85㎡초과 102㎡이하</td>\n",
              "      <td>전용면적 102㎡초과</td>\n",
              "      <td>전체</td>\n",
              "      <td>전용면적 60㎡이하</td>\n",
              "      <td>전용면적 60㎡초과 85㎡이하</td>\n",
              "      <td>전용면적 85㎡초과 102㎡이하</td>\n",
              "      <td>전용면적 102㎡초과</td>\n",
              "      <td>전체</td>\n",
              "      <td>전용면적 60㎡이하</td>\n",
              "      <td>전용면적 60㎡초과 85㎡이하</td>\n",
              "      <td>전용면적 85㎡초과 102㎡이하</td>\n",
              "      <td>전용면적 102㎡초과</td>\n",
              "      <td>...</td>\n",
              "      <td>전체</td>\n",
              "      <td>전용면적 60㎡이하</td>\n",
              "      <td>전용면적 60㎡초과 85㎡이하</td>\n",
              "      <td>전용면적 85㎡초과 102㎡이하</td>\n",
              "      <td>전용면적 102㎡초과</td>\n",
              "      <td>전체</td>\n",
              "      <td>전용면적 60㎡이하</td>\n",
              "      <td>전용면적 60㎡초과 85㎡이하</td>\n",
              "      <td>전용면적 85㎡초과 102㎡이하</td>\n",
              "      <td>전용면적 102㎡초과</td>\n",
              "      <td>전체</td>\n",
              "      <td>전용면적 60㎡이하</td>\n",
              "      <td>전용면적 60㎡초과 85㎡이하</td>\n",
              "      <td>전용면적 85㎡초과 102㎡이하</td>\n",
              "      <td>전용면적 102㎡초과</td>\n",
              "      <td>전체</td>\n",
              "      <td>전용면적 60㎡이하</td>\n",
              "      <td>전용면적 60㎡초과 85㎡이하</td>\n",
              "      <td>전용면적 85㎡초과 102㎡이하</td>\n",
              "      <td>전용면적 102㎡초과</td>\n",
              "      <td>전체</td>\n",
              "      <td>전용면적 60㎡이하</td>\n",
              "      <td>전용면적 60㎡초과 85㎡이하</td>\n",
              "      <td>전용면적 85㎡초과 102㎡이하</td>\n",
              "      <td>전용면적 102㎡초과</td>\n",
              "      <td>전체</td>\n",
              "      <td>전용면적 60㎡이하</td>\n",
              "      <td>전용면적 60㎡초과 85㎡이하</td>\n",
              "      <td>전용면적 85㎡초과 102㎡이하</td>\n",
              "      <td>전용면적 102㎡초과</td>\n",
              "      <td>전체</td>\n",
              "      <td>전용면적 60㎡이하</td>\n",
              "      <td>전용면적 60㎡초과 85㎡이하</td>\n",
              "      <td>전용면적 85㎡초과 102㎡이하</td>\n",
              "      <td>전용면적 102㎡초과</td>\n",
              "      <td>전체</td>\n",
              "      <td>전용면적 60㎡이하</td>\n",
              "      <td>전용면적 60㎡초과 85㎡이하</td>\n",
              "      <td>전용면적 85㎡초과 102㎡이하</td>\n",
              "      <td>전용면적 102㎡초과</td>\n",
              "    </tr>\n",
              "    <tr>\n",
              "      <th>연도</th>\n",
              "      <td>2015</td>\n",
              "      <td>2015</td>\n",
              "      <td>2015</td>\n",
              "      <td>2015</td>\n",
              "      <td>2015</td>\n",
              "      <td>2015</td>\n",
              "      <td>2015</td>\n",
              "      <td>2015</td>\n",
              "      <td>2015</td>\n",
              "      <td>2015</td>\n",
              "      <td>2015</td>\n",
              "      <td>2015</td>\n",
              "      <td>2015</td>\n",
              "      <td>2015</td>\n",
              "      <td>2015</td>\n",
              "      <td>2015</td>\n",
              "      <td>2015</td>\n",
              "      <td>2015</td>\n",
              "      <td>2015</td>\n",
              "      <td>2015</td>\n",
              "      <td>2015</td>\n",
              "      <td>2015</td>\n",
              "      <td>2015</td>\n",
              "      <td>2015</td>\n",
              "      <td>2015</td>\n",
              "      <td>2015</td>\n",
              "      <td>2015</td>\n",
              "      <td>2015</td>\n",
              "      <td>2015</td>\n",
              "      <td>2015</td>\n",
              "      <td>2015</td>\n",
              "      <td>2015</td>\n",
              "      <td>2015</td>\n",
              "      <td>2015</td>\n",
              "      <td>2015</td>\n",
              "      <td>2015</td>\n",
              "      <td>2015</td>\n",
              "      <td>2015</td>\n",
              "      <td>2015</td>\n",
              "      <td>2015</td>\n",
              "      <td>...</td>\n",
              "      <td>2020</td>\n",
              "      <td>2020</td>\n",
              "      <td>2020</td>\n",
              "      <td>2020</td>\n",
              "      <td>2020</td>\n",
              "      <td>2020</td>\n",
              "      <td>2020</td>\n",
              "      <td>2020</td>\n",
              "      <td>2020</td>\n",
              "      <td>2020</td>\n",
              "      <td>2020</td>\n",
              "      <td>2020</td>\n",
              "      <td>2020</td>\n",
              "      <td>2020</td>\n",
              "      <td>2020</td>\n",
              "      <td>2020</td>\n",
              "      <td>2020</td>\n",
              "      <td>2020</td>\n",
              "      <td>2020</td>\n",
              "      <td>2020</td>\n",
              "      <td>2020</td>\n",
              "      <td>2020</td>\n",
              "      <td>2020</td>\n",
              "      <td>2020</td>\n",
              "      <td>2020</td>\n",
              "      <td>2020</td>\n",
              "      <td>2020</td>\n",
              "      <td>2020</td>\n",
              "      <td>2020</td>\n",
              "      <td>2020</td>\n",
              "      <td>2020</td>\n",
              "      <td>2020</td>\n",
              "      <td>2020</td>\n",
              "      <td>2020</td>\n",
              "      <td>2020</td>\n",
              "      <td>2020</td>\n",
              "      <td>2020</td>\n",
              "      <td>2020</td>\n",
              "      <td>2020</td>\n",
              "      <td>2020</td>\n",
              "    </tr>\n",
              "    <tr>\n",
              "      <th>월</th>\n",
              "      <td>10</td>\n",
              "      <td>10</td>\n",
              "      <td>10</td>\n",
              "      <td>10</td>\n",
              "      <td>10</td>\n",
              "      <td>10</td>\n",
              "      <td>10</td>\n",
              "      <td>10</td>\n",
              "      <td>10</td>\n",
              "      <td>10</td>\n",
              "      <td>10</td>\n",
              "      <td>10</td>\n",
              "      <td>10</td>\n",
              "      <td>10</td>\n",
              "      <td>10</td>\n",
              "      <td>10</td>\n",
              "      <td>10</td>\n",
              "      <td>10</td>\n",
              "      <td>10</td>\n",
              "      <td>10</td>\n",
              "      <td>10</td>\n",
              "      <td>10</td>\n",
              "      <td>10</td>\n",
              "      <td>10</td>\n",
              "      <td>10</td>\n",
              "      <td>10</td>\n",
              "      <td>10</td>\n",
              "      <td>10</td>\n",
              "      <td>10</td>\n",
              "      <td>10</td>\n",
              "      <td>10</td>\n",
              "      <td>10</td>\n",
              "      <td>10</td>\n",
              "      <td>10</td>\n",
              "      <td>10</td>\n",
              "      <td>10</td>\n",
              "      <td>10</td>\n",
              "      <td>10</td>\n",
              "      <td>10</td>\n",
              "      <td>10</td>\n",
              "      <td>...</td>\n",
              "      <td>3</td>\n",
              "      <td>3</td>\n",
              "      <td>3</td>\n",
              "      <td>3</td>\n",
              "      <td>3</td>\n",
              "      <td>3</td>\n",
              "      <td>3</td>\n",
              "      <td>3</td>\n",
              "      <td>3</td>\n",
              "      <td>3</td>\n",
              "      <td>3</td>\n",
              "      <td>3</td>\n",
              "      <td>3</td>\n",
              "      <td>3</td>\n",
              "      <td>3</td>\n",
              "      <td>3</td>\n",
              "      <td>3</td>\n",
              "      <td>3</td>\n",
              "      <td>3</td>\n",
              "      <td>3</td>\n",
              "      <td>3</td>\n",
              "      <td>3</td>\n",
              "      <td>3</td>\n",
              "      <td>3</td>\n",
              "      <td>3</td>\n",
              "      <td>3</td>\n",
              "      <td>3</td>\n",
              "      <td>3</td>\n",
              "      <td>3</td>\n",
              "      <td>3</td>\n",
              "      <td>3</td>\n",
              "      <td>3</td>\n",
              "      <td>3</td>\n",
              "      <td>3</td>\n",
              "      <td>3</td>\n",
              "      <td>3</td>\n",
              "      <td>3</td>\n",
              "      <td>3</td>\n",
              "      <td>3</td>\n",
              "      <td>3</td>\n",
              "    </tr>\n",
              "    <tr>\n",
              "      <th>분양가</th>\n",
              "      <td>5841</td>\n",
              "      <td>5652</td>\n",
              "      <td>5882</td>\n",
              "      <td>5721</td>\n",
              "      <td>5879</td>\n",
              "      <td>3163</td>\n",
              "      <td>3488</td>\n",
              "      <td>3119</td>\n",
              "      <td>3545</td>\n",
              "      <td>3408</td>\n",
              "      <td>3138</td>\n",
              "      <td>3126</td>\n",
              "      <td>3239</td>\n",
              "      <td>3496</td>\n",
              "      <td>3680</td>\n",
              "      <td>3112</td>\n",
              "      <td>2950</td>\n",
              "      <td>2999</td>\n",
              "      <td>2957</td>\n",
              "      <td>3500</td>\n",
              "      <td>2682</td>\n",
              "      <td>2614</td>\n",
              "      <td>2696</td>\n",
              "      <td>2557</td>\n",
              "      <td>2598</td>\n",
              "      <td>2420</td>\n",
              "      <td>2253</td>\n",
              "      <td>2439</td>\n",
              "      <td>NaN</td>\n",
              "      <td>NaN</td>\n",
              "      <td>2454</td>\n",
              "      <td>2585</td>\n",
              "      <td>2428</td>\n",
              "      <td>2461</td>\n",
              "      <td>NaN</td>\n",
              "      <td>3053</td>\n",
              "      <td>2422</td>\n",
              "      <td>3040</td>\n",
              "      <td>2951</td>\n",
              "      <td>2690</td>\n",
              "      <td>...</td>\n",
              "      <td>2468</td>\n",
              "      <td>2517</td>\n",
              "      <td>2438</td>\n",
              "      <td>NaN</td>\n",
              "      <td>3906</td>\n",
              "      <td>2400</td>\n",
              "      <td>2420</td>\n",
              "      <td>2390</td>\n",
              "      <td>2634</td>\n",
              "      <td>2756</td>\n",
              "      <td>2608</td>\n",
              "      <td>2390</td>\n",
              "      <td>2631</td>\n",
              "      <td>3201</td>\n",
              "      <td>2835</td>\n",
              "      <td>2468</td>\n",
              "      <td>2526</td>\n",
              "      <td>2458</td>\n",
              "      <td>2764</td>\n",
              "      <td>2667</td>\n",
              "      <td>2576</td>\n",
              "      <td>2689</td>\n",
              "      <td>2569</td>\n",
              "      <td>3005</td>\n",
              "      <td>3692</td>\n",
              "      <td>2555</td>\n",
              "      <td>2578</td>\n",
              "      <td>2549</td>\n",
              "      <td>NaN</td>\n",
              "      <td>2756</td>\n",
              "      <td>2968</td>\n",
              "      <td>2780</td>\n",
              "      <td>2971</td>\n",
              "      <td>3247</td>\n",
              "      <td>NaN</td>\n",
              "      <td>3955</td>\n",
              "      <td>4039</td>\n",
              "      <td>3962</td>\n",
              "      <td>NaN</td>\n",
              "      <td>3601</td>\n",
              "    </tr>\n",
              "  </tbody>\n",
              "</table>\n",
              "<p>5 rows × 4590 columns</p>\n",
              "</div>"
            ],
            "text/plain": [
              "      0           1     ...               4588         4589\n",
              "지역명     서울          서울  ...                 제주           제주\n",
              "규모구분    전체  전용면적 60㎡이하  ...  전용면적 85㎡초과 102㎡이하  전용면적 102㎡초과\n",
              "연도    2015        2015  ...               2020         2020\n",
              "월       10          10  ...                  3            3\n",
              "분양가   5841        5652  ...                NaN         3601\n",
              "\n",
              "[5 rows x 4590 columns]"
            ]
          },
          "metadata": {
            "tags": []
          },
          "execution_count": 35
        }
      ]
    },
    {
      "cell_type": "markdown",
      "metadata": {
        "id": "FiA93KjWbd-L"
      },
      "source": [
        "**Index 정렬**"
      ]
    },
    {
      "cell_type": "code",
      "metadata": {
        "colab": {
          "base_uri": "https://localhost:8080/",
          "height": 198
        },
        "id": "8XONteHXGerG",
        "outputId": "af4f3ac0-360f-4e54-e25a-862c151f55bb"
      },
      "source": [
        "#내림차순\r\n",
        "a = df.sort_index(axis=0, ascending=False)\r\n",
        "a.head()"
      ],
      "execution_count": null,
      "outputs": [
        {
          "output_type": "execute_result",
          "data": {
            "text/html": [
              "<div>\n",
              "<style scoped>\n",
              "    .dataframe tbody tr th:only-of-type {\n",
              "        vertical-align: middle;\n",
              "    }\n",
              "\n",
              "    .dataframe tbody tr th {\n",
              "        vertical-align: top;\n",
              "    }\n",
              "\n",
              "    .dataframe thead th {\n",
              "        text-align: right;\n",
              "    }\n",
              "</style>\n",
              "<table border=\"1\" class=\"dataframe\">\n",
              "  <thead>\n",
              "    <tr style=\"text-align: right;\">\n",
              "      <th></th>\n",
              "      <th>지역명</th>\n",
              "      <th>규모구분</th>\n",
              "      <th>연도</th>\n",
              "      <th>월</th>\n",
              "      <th>분양가</th>\n",
              "    </tr>\n",
              "  </thead>\n",
              "  <tbody>\n",
              "    <tr>\n",
              "      <th>4589</th>\n",
              "      <td>제주</td>\n",
              "      <td>전용면적 102㎡초과</td>\n",
              "      <td>2020</td>\n",
              "      <td>3</td>\n",
              "      <td>3601.0</td>\n",
              "    </tr>\n",
              "    <tr>\n",
              "      <th>4588</th>\n",
              "      <td>제주</td>\n",
              "      <td>전용면적 85㎡초과 102㎡이하</td>\n",
              "      <td>2020</td>\n",
              "      <td>3</td>\n",
              "      <td>NaN</td>\n",
              "    </tr>\n",
              "    <tr>\n",
              "      <th>4587</th>\n",
              "      <td>제주</td>\n",
              "      <td>전용면적 60㎡초과 85㎡이하</td>\n",
              "      <td>2020</td>\n",
              "      <td>3</td>\n",
              "      <td>3962.0</td>\n",
              "    </tr>\n",
              "    <tr>\n",
              "      <th>4586</th>\n",
              "      <td>제주</td>\n",
              "      <td>전용면적 60㎡이하</td>\n",
              "      <td>2020</td>\n",
              "      <td>3</td>\n",
              "      <td>4039.0</td>\n",
              "    </tr>\n",
              "    <tr>\n",
              "      <th>4585</th>\n",
              "      <td>제주</td>\n",
              "      <td>전체</td>\n",
              "      <td>2020</td>\n",
              "      <td>3</td>\n",
              "      <td>3955.0</td>\n",
              "    </tr>\n",
              "  </tbody>\n",
              "</table>\n",
              "</div>"
            ],
            "text/plain": [
              "     지역명               규모구분    연도  월     분양가\n",
              "4589  제주        전용면적 102㎡초과  2020  3  3601.0\n",
              "4588  제주  전용면적 85㎡초과 102㎡이하  2020  3     NaN\n",
              "4587  제주   전용면적 60㎡초과 85㎡이하  2020  3  3962.0\n",
              "4586  제주         전용면적 60㎡이하  2020  3  4039.0\n",
              "4585  제주                 전체  2020  3  3955.0"
            ]
          },
          "metadata": {
            "tags": []
          },
          "execution_count": 57
        }
      ]
    },
    {
      "cell_type": "code",
      "metadata": {
        "colab": {
          "base_uri": "https://localhost:8080/",
          "height": 198
        },
        "id": "h6h9rgJXHT1w",
        "outputId": "30bb08c4-2d44-4dbb-c97b-7fce865695e3"
      },
      "source": [
        "#오름차순\r\n",
        "b = df.sort_index(axis=0, ascending=True)\r\n",
        "b.head()"
      ],
      "execution_count": null,
      "outputs": [
        {
          "output_type": "execute_result",
          "data": {
            "text/html": [
              "<div>\n",
              "<style scoped>\n",
              "    .dataframe tbody tr th:only-of-type {\n",
              "        vertical-align: middle;\n",
              "    }\n",
              "\n",
              "    .dataframe tbody tr th {\n",
              "        vertical-align: top;\n",
              "    }\n",
              "\n",
              "    .dataframe thead th {\n",
              "        text-align: right;\n",
              "    }\n",
              "</style>\n",
              "<table border=\"1\" class=\"dataframe\">\n",
              "  <thead>\n",
              "    <tr style=\"text-align: right;\">\n",
              "      <th></th>\n",
              "      <th>지역명</th>\n",
              "      <th>규모구분</th>\n",
              "      <th>연도</th>\n",
              "      <th>월</th>\n",
              "      <th>분양가</th>\n",
              "    </tr>\n",
              "  </thead>\n",
              "  <tbody>\n",
              "    <tr>\n",
              "      <th>0</th>\n",
              "      <td>서울</td>\n",
              "      <td>전체</td>\n",
              "      <td>2015</td>\n",
              "      <td>10</td>\n",
              "      <td>5841.0</td>\n",
              "    </tr>\n",
              "    <tr>\n",
              "      <th>1</th>\n",
              "      <td>서울</td>\n",
              "      <td>전용면적 60㎡이하</td>\n",
              "      <td>2015</td>\n",
              "      <td>10</td>\n",
              "      <td>5652.0</td>\n",
              "    </tr>\n",
              "    <tr>\n",
              "      <th>2</th>\n",
              "      <td>서울</td>\n",
              "      <td>전용면적 60㎡초과 85㎡이하</td>\n",
              "      <td>2015</td>\n",
              "      <td>10</td>\n",
              "      <td>5882.0</td>\n",
              "    </tr>\n",
              "    <tr>\n",
              "      <th>3</th>\n",
              "      <td>서울</td>\n",
              "      <td>전용면적 85㎡초과 102㎡이하</td>\n",
              "      <td>2015</td>\n",
              "      <td>10</td>\n",
              "      <td>5721.0</td>\n",
              "    </tr>\n",
              "    <tr>\n",
              "      <th>4</th>\n",
              "      <td>서울</td>\n",
              "      <td>전용면적 102㎡초과</td>\n",
              "      <td>2015</td>\n",
              "      <td>10</td>\n",
              "      <td>5879.0</td>\n",
              "    </tr>\n",
              "  </tbody>\n",
              "</table>\n",
              "</div>"
            ],
            "text/plain": [
              "  지역명               규모구분    연도   월     분양가\n",
              "0  서울                 전체  2015  10  5841.0\n",
              "1  서울         전용면적 60㎡이하  2015  10  5652.0\n",
              "2  서울   전용면적 60㎡초과 85㎡이하  2015  10  5882.0\n",
              "3  서울  전용면적 85㎡초과 102㎡이하  2015  10  5721.0\n",
              "4  서울        전용면적 102㎡초과  2015  10  5879.0"
            ]
          },
          "metadata": {
            "tags": []
          },
          "execution_count": 61
        }
      ]
    },
    {
      "cell_type": "markdown",
      "metadata": {
        "id": "1eOMg_AXbn0y"
      },
      "source": [
        "**Value 정렬**"
      ]
    },
    {
      "cell_type": "code",
      "metadata": {
        "colab": {
          "base_uri": "https://localhost:8080/",
          "height": 407
        },
        "id": "Q50_tPBrJjpv",
        "outputId": "6ca624e7-736c-4122-f72d-5dfde3eaea7e"
      },
      "source": [
        "df.sort_values(by='분양가', ascending=False)"
      ],
      "execution_count": null,
      "outputs": [
        {
          "output_type": "execute_result",
          "data": {
            "text/html": [
              "<div>\n",
              "<style scoped>\n",
              "    .dataframe tbody tr th:only-of-type {\n",
              "        vertical-align: middle;\n",
              "    }\n",
              "\n",
              "    .dataframe tbody tr th {\n",
              "        vertical-align: top;\n",
              "    }\n",
              "\n",
              "    .dataframe thead th {\n",
              "        text-align: right;\n",
              "    }\n",
              "</style>\n",
              "<table border=\"1\" class=\"dataframe\">\n",
              "  <thead>\n",
              "    <tr style=\"text-align: right;\">\n",
              "      <th></th>\n",
              "      <th>지역명</th>\n",
              "      <th>규모구분</th>\n",
              "      <th>연도</th>\n",
              "      <th>월</th>\n",
              "      <th>분양가</th>\n",
              "    </tr>\n",
              "  </thead>\n",
              "  <tbody>\n",
              "    <tr>\n",
              "      <th>4508</th>\n",
              "      <td>서울</td>\n",
              "      <td>전용면적 85㎡초과 102㎡이하</td>\n",
              "      <td>2020</td>\n",
              "      <td>3</td>\n",
              "      <td>13835.0</td>\n",
              "    </tr>\n",
              "    <tr>\n",
              "      <th>4423</th>\n",
              "      <td>서울</td>\n",
              "      <td>전용면적 85㎡초과 102㎡이하</td>\n",
              "      <td>2020</td>\n",
              "      <td>2</td>\n",
              "      <td>13835.0</td>\n",
              "    </tr>\n",
              "    <tr>\n",
              "      <th>4253</th>\n",
              "      <td>서울</td>\n",
              "      <td>전용면적 85㎡초과 102㎡이하</td>\n",
              "      <td>2019</td>\n",
              "      <td>12</td>\n",
              "      <td>12728.0</td>\n",
              "    </tr>\n",
              "    <tr>\n",
              "      <th>3998</th>\n",
              "      <td>서울</td>\n",
              "      <td>전용면적 85㎡초과 102㎡이하</td>\n",
              "      <td>2019</td>\n",
              "      <td>9</td>\n",
              "      <td>12728.0</td>\n",
              "    </tr>\n",
              "    <tr>\n",
              "      <th>4083</th>\n",
              "      <td>서울</td>\n",
              "      <td>전용면적 85㎡초과 102㎡이하</td>\n",
              "      <td>2019</td>\n",
              "      <td>10</td>\n",
              "      <td>12728.0</td>\n",
              "    </tr>\n",
              "    <tr>\n",
              "      <th>...</th>\n",
              "      <td>...</td>\n",
              "      <td>...</td>\n",
              "      <td>...</td>\n",
              "      <td>...</td>\n",
              "      <td>...</td>\n",
              "    </tr>\n",
              "    <tr>\n",
              "      <th>4546</th>\n",
              "      <td>세종</td>\n",
              "      <td>전용면적 60㎡이하</td>\n",
              "      <td>2020</td>\n",
              "      <td>3</td>\n",
              "      <td>NaN</td>\n",
              "    </tr>\n",
              "    <tr>\n",
              "      <th>4553</th>\n",
              "      <td>강원</td>\n",
              "      <td>전용면적 85㎡초과 102㎡이하</td>\n",
              "      <td>2020</td>\n",
              "      <td>3</td>\n",
              "      <td>NaN</td>\n",
              "    </tr>\n",
              "    <tr>\n",
              "      <th>4578</th>\n",
              "      <td>경북</td>\n",
              "      <td>전용면적 85㎡초과 102㎡이하</td>\n",
              "      <td>2020</td>\n",
              "      <td>3</td>\n",
              "      <td>NaN</td>\n",
              "    </tr>\n",
              "    <tr>\n",
              "      <th>4584</th>\n",
              "      <td>경남</td>\n",
              "      <td>전용면적 102㎡초과</td>\n",
              "      <td>2020</td>\n",
              "      <td>3</td>\n",
              "      <td>NaN</td>\n",
              "    </tr>\n",
              "    <tr>\n",
              "      <th>4588</th>\n",
              "      <td>제주</td>\n",
              "      <td>전용면적 85㎡초과 102㎡이하</td>\n",
              "      <td>2020</td>\n",
              "      <td>3</td>\n",
              "      <td>NaN</td>\n",
              "    </tr>\n",
              "  </tbody>\n",
              "</table>\n",
              "<p>4590 rows × 5 columns</p>\n",
              "</div>"
            ],
            "text/plain": [
              "     지역명               규모구분    연도   월      분양가\n",
              "4508  서울  전용면적 85㎡초과 102㎡이하  2020   3  13835.0\n",
              "4423  서울  전용면적 85㎡초과 102㎡이하  2020   2  13835.0\n",
              "4253  서울  전용면적 85㎡초과 102㎡이하  2019  12  12728.0\n",
              "3998  서울  전용면적 85㎡초과 102㎡이하  2019   9  12728.0\n",
              "4083  서울  전용면적 85㎡초과 102㎡이하  2019  10  12728.0\n",
              "...   ..                ...   ...  ..      ...\n",
              "4546  세종         전용면적 60㎡이하  2020   3      NaN\n",
              "4553  강원  전용면적 85㎡초과 102㎡이하  2020   3      NaN\n",
              "4578  경북  전용면적 85㎡초과 102㎡이하  2020   3      NaN\n",
              "4584  경남        전용면적 102㎡초과  2020   3      NaN\n",
              "4588  제주  전용면적 85㎡초과 102㎡이하  2020   3      NaN\n",
              "\n",
              "[4590 rows x 5 columns]"
            ]
          },
          "metadata": {
            "tags": []
          },
          "execution_count": 72
        }
      ]
    },
    {
      "cell_type": "markdown",
      "metadata": {
        "id": "Z_1_Zllobs2H"
      },
      "source": [
        "**Label로 선택**"
      ]
    },
    {
      "cell_type": "code",
      "metadata": {
        "colab": {
          "base_uri": "https://localhost:8080/",
          "height": 258
        },
        "id": "WO7jA1ZwLFI2",
        "outputId": "21516359-2a37-440c-f738-be2a3124707a"
      },
      "source": [
        "df.loc[:, ['지역명', '연도']][:7]"
      ],
      "execution_count": null,
      "outputs": [
        {
          "output_type": "execute_result",
          "data": {
            "text/html": [
              "<div>\n",
              "<style scoped>\n",
              "    .dataframe tbody tr th:only-of-type {\n",
              "        vertical-align: middle;\n",
              "    }\n",
              "\n",
              "    .dataframe tbody tr th {\n",
              "        vertical-align: top;\n",
              "    }\n",
              "\n",
              "    .dataframe thead th {\n",
              "        text-align: right;\n",
              "    }\n",
              "</style>\n",
              "<table border=\"1\" class=\"dataframe\">\n",
              "  <thead>\n",
              "    <tr style=\"text-align: right;\">\n",
              "      <th></th>\n",
              "      <th>지역명</th>\n",
              "      <th>연도</th>\n",
              "    </tr>\n",
              "  </thead>\n",
              "  <tbody>\n",
              "    <tr>\n",
              "      <th>0</th>\n",
              "      <td>서울</td>\n",
              "      <td>2015</td>\n",
              "    </tr>\n",
              "    <tr>\n",
              "      <th>1</th>\n",
              "      <td>서울</td>\n",
              "      <td>2015</td>\n",
              "    </tr>\n",
              "    <tr>\n",
              "      <th>2</th>\n",
              "      <td>서울</td>\n",
              "      <td>2015</td>\n",
              "    </tr>\n",
              "    <tr>\n",
              "      <th>3</th>\n",
              "      <td>서울</td>\n",
              "      <td>2015</td>\n",
              "    </tr>\n",
              "    <tr>\n",
              "      <th>4</th>\n",
              "      <td>서울</td>\n",
              "      <td>2015</td>\n",
              "    </tr>\n",
              "    <tr>\n",
              "      <th>5</th>\n",
              "      <td>인천</td>\n",
              "      <td>2015</td>\n",
              "    </tr>\n",
              "    <tr>\n",
              "      <th>6</th>\n",
              "      <td>인천</td>\n",
              "      <td>2015</td>\n",
              "    </tr>\n",
              "  </tbody>\n",
              "</table>\n",
              "</div>"
            ],
            "text/plain": [
              "  지역명    연도\n",
              "0  서울  2015\n",
              "1  서울  2015\n",
              "2  서울  2015\n",
              "3  서울  2015\n",
              "4  서울  2015\n",
              "5  인천  2015\n",
              "6  인천  2015"
            ]
          },
          "metadata": {
            "tags": []
          },
          "execution_count": 83
        }
      ]
    },
    {
      "cell_type": "code",
      "metadata": {
        "colab": {
          "base_uri": "https://localhost:8080/",
          "height": 258
        },
        "id": "78dVaE0LNS2Q",
        "outputId": "270c8aa5-dc9d-42f9-a103-3ee9afaf5adf"
      },
      "source": [
        "df.loc[:6 ,['지역명', '연도']]"
      ],
      "execution_count": null,
      "outputs": [
        {
          "output_type": "execute_result",
          "data": {
            "text/html": [
              "<div>\n",
              "<style scoped>\n",
              "    .dataframe tbody tr th:only-of-type {\n",
              "        vertical-align: middle;\n",
              "    }\n",
              "\n",
              "    .dataframe tbody tr th {\n",
              "        vertical-align: top;\n",
              "    }\n",
              "\n",
              "    .dataframe thead th {\n",
              "        text-align: right;\n",
              "    }\n",
              "</style>\n",
              "<table border=\"1\" class=\"dataframe\">\n",
              "  <thead>\n",
              "    <tr style=\"text-align: right;\">\n",
              "      <th></th>\n",
              "      <th>지역명</th>\n",
              "      <th>연도</th>\n",
              "    </tr>\n",
              "  </thead>\n",
              "  <tbody>\n",
              "    <tr>\n",
              "      <th>0</th>\n",
              "      <td>서울</td>\n",
              "      <td>2015</td>\n",
              "    </tr>\n",
              "    <tr>\n",
              "      <th>1</th>\n",
              "      <td>서울</td>\n",
              "      <td>2015</td>\n",
              "    </tr>\n",
              "    <tr>\n",
              "      <th>2</th>\n",
              "      <td>서울</td>\n",
              "      <td>2015</td>\n",
              "    </tr>\n",
              "    <tr>\n",
              "      <th>3</th>\n",
              "      <td>서울</td>\n",
              "      <td>2015</td>\n",
              "    </tr>\n",
              "    <tr>\n",
              "      <th>4</th>\n",
              "      <td>서울</td>\n",
              "      <td>2015</td>\n",
              "    </tr>\n",
              "    <tr>\n",
              "      <th>5</th>\n",
              "      <td>인천</td>\n",
              "      <td>2015</td>\n",
              "    </tr>\n",
              "    <tr>\n",
              "      <th>6</th>\n",
              "      <td>인천</td>\n",
              "      <td>2015</td>\n",
              "    </tr>\n",
              "  </tbody>\n",
              "</table>\n",
              "</div>"
            ],
            "text/plain": [
              "  지역명    연도\n",
              "0  서울  2015\n",
              "1  서울  2015\n",
              "2  서울  2015\n",
              "3  서울  2015\n",
              "4  서울  2015\n",
              "5  인천  2015\n",
              "6  인천  2015"
            ]
          },
          "metadata": {
            "tags": []
          },
          "execution_count": 87
        }
      ]
    },
    {
      "cell_type": "code",
      "metadata": {
        "colab": {
          "base_uri": "https://localhost:8080/",
          "height": 348
        },
        "id": "sjYnEt_nN3Kd",
        "outputId": "790682e8-bbc3-4f5a-c868-40a6b9b704b7"
      },
      "source": [
        "df.loc[df.index > 5, ['지역명', '연도']][:10]"
      ],
      "execution_count": null,
      "outputs": [
        {
          "output_type": "execute_result",
          "data": {
            "text/html": [
              "<div>\n",
              "<style scoped>\n",
              "    .dataframe tbody tr th:only-of-type {\n",
              "        vertical-align: middle;\n",
              "    }\n",
              "\n",
              "    .dataframe tbody tr th {\n",
              "        vertical-align: top;\n",
              "    }\n",
              "\n",
              "    .dataframe thead th {\n",
              "        text-align: right;\n",
              "    }\n",
              "</style>\n",
              "<table border=\"1\" class=\"dataframe\">\n",
              "  <thead>\n",
              "    <tr style=\"text-align: right;\">\n",
              "      <th></th>\n",
              "      <th>지역명</th>\n",
              "      <th>연도</th>\n",
              "    </tr>\n",
              "  </thead>\n",
              "  <tbody>\n",
              "    <tr>\n",
              "      <th>6</th>\n",
              "      <td>인천</td>\n",
              "      <td>2015</td>\n",
              "    </tr>\n",
              "    <tr>\n",
              "      <th>7</th>\n",
              "      <td>인천</td>\n",
              "      <td>2015</td>\n",
              "    </tr>\n",
              "    <tr>\n",
              "      <th>8</th>\n",
              "      <td>인천</td>\n",
              "      <td>2015</td>\n",
              "    </tr>\n",
              "    <tr>\n",
              "      <th>9</th>\n",
              "      <td>인천</td>\n",
              "      <td>2015</td>\n",
              "    </tr>\n",
              "    <tr>\n",
              "      <th>10</th>\n",
              "      <td>경기</td>\n",
              "      <td>2015</td>\n",
              "    </tr>\n",
              "    <tr>\n",
              "      <th>11</th>\n",
              "      <td>경기</td>\n",
              "      <td>2015</td>\n",
              "    </tr>\n",
              "    <tr>\n",
              "      <th>12</th>\n",
              "      <td>경기</td>\n",
              "      <td>2015</td>\n",
              "    </tr>\n",
              "    <tr>\n",
              "      <th>13</th>\n",
              "      <td>경기</td>\n",
              "      <td>2015</td>\n",
              "    </tr>\n",
              "    <tr>\n",
              "      <th>14</th>\n",
              "      <td>경기</td>\n",
              "      <td>2015</td>\n",
              "    </tr>\n",
              "    <tr>\n",
              "      <th>15</th>\n",
              "      <td>부산</td>\n",
              "      <td>2015</td>\n",
              "    </tr>\n",
              "  </tbody>\n",
              "</table>\n",
              "</div>"
            ],
            "text/plain": [
              "   지역명    연도\n",
              "6   인천  2015\n",
              "7   인천  2015\n",
              "8   인천  2015\n",
              "9   인천  2015\n",
              "10  경기  2015\n",
              "11  경기  2015\n",
              "12  경기  2015\n",
              "13  경기  2015\n",
              "14  경기  2015\n",
              "15  부산  2015"
            ]
          },
          "metadata": {
            "tags": []
          },
          "execution_count": 75
        }
      ]
    },
    {
      "cell_type": "code",
      "metadata": {
        "colab": {
          "base_uri": "https://localhost:8080/",
          "height": 348
        },
        "id": "VkPke9lON5RT",
        "outputId": "cb8592c0-cc20-476d-d62a-e2e0f0252abf"
      },
      "source": [
        "df.loc[(df['지역명']=='인천') & (df['연도']==2018),['지역명', '연도', '분양가']].sort_values(by='분양가', ascending=False)[:10]"
      ],
      "execution_count": null,
      "outputs": [
        {
          "output_type": "execute_result",
          "data": {
            "text/html": [
              "<div>\n",
              "<style scoped>\n",
              "    .dataframe tbody tr th:only-of-type {\n",
              "        vertical-align: middle;\n",
              "    }\n",
              "\n",
              "    .dataframe tbody tr th {\n",
              "        vertical-align: top;\n",
              "    }\n",
              "\n",
              "    .dataframe thead th {\n",
              "        text-align: right;\n",
              "    }\n",
              "</style>\n",
              "<table border=\"1\" class=\"dataframe\">\n",
              "  <thead>\n",
              "    <tr style=\"text-align: right;\">\n",
              "      <th></th>\n",
              "      <th>지역명</th>\n",
              "      <th>연도</th>\n",
              "      <th>분양가</th>\n",
              "    </tr>\n",
              "  </thead>\n",
              "  <tbody>\n",
              "    <tr>\n",
              "      <th>2644</th>\n",
              "      <td>인천</td>\n",
              "      <td>2018</td>\n",
              "      <td>4835.0</td>\n",
              "    </tr>\n",
              "    <tr>\n",
              "      <th>2389</th>\n",
              "      <td>인천</td>\n",
              "      <td>2018</td>\n",
              "      <td>4835.0</td>\n",
              "    </tr>\n",
              "    <tr>\n",
              "      <th>2559</th>\n",
              "      <td>인천</td>\n",
              "      <td>2018</td>\n",
              "      <td>4835.0</td>\n",
              "    </tr>\n",
              "    <tr>\n",
              "      <th>2304</th>\n",
              "      <td>인천</td>\n",
              "      <td>2018</td>\n",
              "      <td>4835.0</td>\n",
              "    </tr>\n",
              "    <tr>\n",
              "      <th>2474</th>\n",
              "      <td>인천</td>\n",
              "      <td>2018</td>\n",
              "      <td>4835.0</td>\n",
              "    </tr>\n",
              "    <tr>\n",
              "      <th>3154</th>\n",
              "      <td>인천</td>\n",
              "      <td>2018</td>\n",
              "      <td>4455.0</td>\n",
              "    </tr>\n",
              "    <tr>\n",
              "      <th>3239</th>\n",
              "      <td>인천</td>\n",
              "      <td>2018</td>\n",
              "      <td>4455.0</td>\n",
              "    </tr>\n",
              "    <tr>\n",
              "      <th>2471</th>\n",
              "      <td>인천</td>\n",
              "      <td>2018</td>\n",
              "      <td>3754.0</td>\n",
              "    </tr>\n",
              "    <tr>\n",
              "      <th>2556</th>\n",
              "      <td>인천</td>\n",
              "      <td>2018</td>\n",
              "      <td>3754.0</td>\n",
              "    </tr>\n",
              "    <tr>\n",
              "      <th>3237</th>\n",
              "      <td>인천</td>\n",
              "      <td>2018</td>\n",
              "      <td>3731.0</td>\n",
              "    </tr>\n",
              "  </tbody>\n",
              "</table>\n",
              "</div>"
            ],
            "text/plain": [
              "     지역명    연도     분양가\n",
              "2644  인천  2018  4835.0\n",
              "2389  인천  2018  4835.0\n",
              "2559  인천  2018  4835.0\n",
              "2304  인천  2018  4835.0\n",
              "2474  인천  2018  4835.0\n",
              "3154  인천  2018  4455.0\n",
              "3239  인천  2018  4455.0\n",
              "2471  인천  2018  3754.0\n",
              "2556  인천  2018  3754.0\n",
              "3237  인천  2018  3731.0"
            ]
          },
          "metadata": {
            "tags": []
          },
          "execution_count": 110
        }
      ]
    },
    {
      "cell_type": "code",
      "metadata": {
        "colab": {
          "base_uri": "https://localhost:8080/",
          "height": 35
        },
        "id": "eIBfIy1JANyM",
        "outputId": "243a04a4-60d0-4169-bd7a-a03fe8d19fda"
      },
      "source": [
        "df.iloc[2, 1]"
      ],
      "execution_count": 5,
      "outputs": [
        {
          "output_type": "execute_result",
          "data": {
            "application/vnd.google.colaboratory.intrinsic+json": {
              "type": "string"
            },
            "text/plain": [
              "'전용면적 60㎡초과 85㎡이하'"
            ]
          },
          "metadata": {
            "tags": []
          },
          "execution_count": 5
        }
      ]
    },
    {
      "cell_type": "code",
      "metadata": {
        "colab": {
          "base_uri": "https://localhost:8080/",
          "height": 35
        },
        "id": "6oPNGN8qBBLi",
        "outputId": "e85faecc-e0ad-4ffb-86a8-d725bcda65ec"
      },
      "source": [
        "# df.iloc과 동작방식은 동일하지만, 범위 지정은 불가\r\n",
        "df.iat[2, 1]"
      ],
      "execution_count": 6,
      "outputs": [
        {
          "output_type": "execute_result",
          "data": {
            "application/vnd.google.colaboratory.intrinsic+json": {
              "type": "string"
            },
            "text/plain": [
              "'전용면적 60㎡초과 85㎡이하'"
            ]
          },
          "metadata": {
            "tags": []
          },
          "execution_count": 6
        }
      ]
    },
    {
      "cell_type": "code",
      "metadata": {
        "colab": {
          "base_uri": "https://localhost:8080/"
        },
        "id": "uoPI2CF8BGam",
        "outputId": "09bd6f41-dee1-48b1-858b-2a5d4097cd1f"
      },
      "source": [
        "df.iloc[2, :]"
      ],
      "execution_count": 7,
      "outputs": [
        {
          "output_type": "execute_result",
          "data": {
            "text/plain": [
              "지역명                      서울\n",
              "규모구분       전용면적 60㎡초과 85㎡이하\n",
              "연도                     2015\n",
              "월                        10\n",
              "분양가격(㎡)                5882\n",
              "Name: 2, dtype: object"
            ]
          },
          "metadata": {
            "tags": []
          },
          "execution_count": 7
        }
      ]
    },
    {
      "cell_type": "code",
      "metadata": {
        "colab": {
          "base_uri": "https://localhost:8080/",
          "height": 198
        },
        "id": "xirVn6r-BWVA",
        "outputId": "74164573-8611-48b1-8692-a083df7bdb7c"
      },
      "source": [
        "# iloc으로 인덱스 지정시 : 기준으로 왼쪽은 포함, : 기준으로 오른쪽은 미만\r\n",
        "df.iloc[:5, 1:3]"
      ],
      "execution_count": 8,
      "outputs": [
        {
          "output_type": "execute_result",
          "data": {
            "text/html": [
              "<div>\n",
              "<style scoped>\n",
              "    .dataframe tbody tr th:only-of-type {\n",
              "        vertical-align: middle;\n",
              "    }\n",
              "\n",
              "    .dataframe tbody tr th {\n",
              "        vertical-align: top;\n",
              "    }\n",
              "\n",
              "    .dataframe thead th {\n",
              "        text-align: right;\n",
              "    }\n",
              "</style>\n",
              "<table border=\"1\" class=\"dataframe\">\n",
              "  <thead>\n",
              "    <tr style=\"text-align: right;\">\n",
              "      <th></th>\n",
              "      <th>규모구분</th>\n",
              "      <th>연도</th>\n",
              "    </tr>\n",
              "  </thead>\n",
              "  <tbody>\n",
              "    <tr>\n",
              "      <th>0</th>\n",
              "      <td>전체</td>\n",
              "      <td>2015</td>\n",
              "    </tr>\n",
              "    <tr>\n",
              "      <th>1</th>\n",
              "      <td>전용면적 60㎡이하</td>\n",
              "      <td>2015</td>\n",
              "    </tr>\n",
              "    <tr>\n",
              "      <th>2</th>\n",
              "      <td>전용면적 60㎡초과 85㎡이하</td>\n",
              "      <td>2015</td>\n",
              "    </tr>\n",
              "    <tr>\n",
              "      <th>3</th>\n",
              "      <td>전용면적 85㎡초과 102㎡이하</td>\n",
              "      <td>2015</td>\n",
              "    </tr>\n",
              "    <tr>\n",
              "      <th>4</th>\n",
              "      <td>전용면적 102㎡초과</td>\n",
              "      <td>2015</td>\n",
              "    </tr>\n",
              "  </tbody>\n",
              "</table>\n",
              "</div>"
            ],
            "text/plain": [
              "                규모구분    연도\n",
              "0                 전체  2015\n",
              "1         전용면적 60㎡이하  2015\n",
              "2   전용면적 60㎡초과 85㎡이하  2015\n",
              "3  전용면적 85㎡초과 102㎡이하  2015\n",
              "4        전용면적 102㎡초과  2015"
            ]
          },
          "metadata": {
            "tags": []
          },
          "execution_count": 8
        }
      ]
    },
    {
      "cell_type": "code",
      "metadata": {
        "colab": {
          "base_uri": "https://localhost:8080/",
          "height": 198
        },
        "id": "op2U4N9SBiTN",
        "outputId": "9a1c17cc-745b-4885-c6f7-95c0dfacd22f"
      },
      "source": [
        "df[df.연도 == 2019][:5]"
      ],
      "execution_count": 9,
      "outputs": [
        {
          "output_type": "execute_result",
          "data": {
            "text/html": [
              "<div>\n",
              "<style scoped>\n",
              "    .dataframe tbody tr th:only-of-type {\n",
              "        vertical-align: middle;\n",
              "    }\n",
              "\n",
              "    .dataframe tbody tr th {\n",
              "        vertical-align: top;\n",
              "    }\n",
              "\n",
              "    .dataframe thead th {\n",
              "        text-align: right;\n",
              "    }\n",
              "</style>\n",
              "<table border=\"1\" class=\"dataframe\">\n",
              "  <thead>\n",
              "    <tr style=\"text-align: right;\">\n",
              "      <th></th>\n",
              "      <th>지역명</th>\n",
              "      <th>규모구분</th>\n",
              "      <th>연도</th>\n",
              "      <th>월</th>\n",
              "      <th>분양가격(㎡)</th>\n",
              "    </tr>\n",
              "  </thead>\n",
              "  <tbody>\n",
              "    <tr>\n",
              "      <th>3315</th>\n",
              "      <td>서울</td>\n",
              "      <td>전체</td>\n",
              "      <td>2019</td>\n",
              "      <td>1</td>\n",
              "      <td>7600</td>\n",
              "    </tr>\n",
              "    <tr>\n",
              "      <th>3316</th>\n",
              "      <td>서울</td>\n",
              "      <td>전용면적 60㎡이하</td>\n",
              "      <td>2019</td>\n",
              "      <td>1</td>\n",
              "      <td>7400</td>\n",
              "    </tr>\n",
              "    <tr>\n",
              "      <th>3317</th>\n",
              "      <td>서울</td>\n",
              "      <td>전용면적 60㎡초과 85㎡이하</td>\n",
              "      <td>2019</td>\n",
              "      <td>1</td>\n",
              "      <td>8105</td>\n",
              "    </tr>\n",
              "    <tr>\n",
              "      <th>3318</th>\n",
              "      <td>서울</td>\n",
              "      <td>전용면적 85㎡초과 102㎡이하</td>\n",
              "      <td>2019</td>\n",
              "      <td>1</td>\n",
              "      <td>6842</td>\n",
              "    </tr>\n",
              "    <tr>\n",
              "      <th>3319</th>\n",
              "      <td>서울</td>\n",
              "      <td>전용면적 102㎡초과</td>\n",
              "      <td>2019</td>\n",
              "      <td>1</td>\n",
              "      <td>7787</td>\n",
              "    </tr>\n",
              "  </tbody>\n",
              "</table>\n",
              "</div>"
            ],
            "text/plain": [
              "     지역명               규모구분    연도  월 분양가격(㎡)\n",
              "3315  서울                 전체  2019  1    7600\n",
              "3316  서울         전용면적 60㎡이하  2019  1    7400\n",
              "3317  서울   전용면적 60㎡초과 85㎡이하  2019  1    8105\n",
              "3318  서울  전용면적 85㎡초과 102㎡이하  2019  1    6842\n",
              "3319  서울        전용면적 102㎡초과  2019  1    7787"
            ]
          },
          "metadata": {
            "tags": []
          },
          "execution_count": 9
        }
      ]
    },
    {
      "cell_type": "code",
      "metadata": {
        "colab": {
          "base_uri": "https://localhost:8080/",
          "height": 198
        },
        "id": "dFL2bojEBu9g",
        "outputId": "ea63c5e0-5d38-47da-e36e-3ba8f725af18"
      },
      "source": [
        "copy = df.copy()\r\n",
        "copy.head()"
      ],
      "execution_count": 10,
      "outputs": [
        {
          "output_type": "execute_result",
          "data": {
            "text/html": [
              "<div>\n",
              "<style scoped>\n",
              "    .dataframe tbody tr th:only-of-type {\n",
              "        vertical-align: middle;\n",
              "    }\n",
              "\n",
              "    .dataframe tbody tr th {\n",
              "        vertical-align: top;\n",
              "    }\n",
              "\n",
              "    .dataframe thead th {\n",
              "        text-align: right;\n",
              "    }\n",
              "</style>\n",
              "<table border=\"1\" class=\"dataframe\">\n",
              "  <thead>\n",
              "    <tr style=\"text-align: right;\">\n",
              "      <th></th>\n",
              "      <th>지역명</th>\n",
              "      <th>규모구분</th>\n",
              "      <th>연도</th>\n",
              "      <th>월</th>\n",
              "      <th>분양가격(㎡)</th>\n",
              "    </tr>\n",
              "  </thead>\n",
              "  <tbody>\n",
              "    <tr>\n",
              "      <th>0</th>\n",
              "      <td>서울</td>\n",
              "      <td>전체</td>\n",
              "      <td>2015</td>\n",
              "      <td>10</td>\n",
              "      <td>5841</td>\n",
              "    </tr>\n",
              "    <tr>\n",
              "      <th>1</th>\n",
              "      <td>서울</td>\n",
              "      <td>전용면적 60㎡이하</td>\n",
              "      <td>2015</td>\n",
              "      <td>10</td>\n",
              "      <td>5652</td>\n",
              "    </tr>\n",
              "    <tr>\n",
              "      <th>2</th>\n",
              "      <td>서울</td>\n",
              "      <td>전용면적 60㎡초과 85㎡이하</td>\n",
              "      <td>2015</td>\n",
              "      <td>10</td>\n",
              "      <td>5882</td>\n",
              "    </tr>\n",
              "    <tr>\n",
              "      <th>3</th>\n",
              "      <td>서울</td>\n",
              "      <td>전용면적 85㎡초과 102㎡이하</td>\n",
              "      <td>2015</td>\n",
              "      <td>10</td>\n",
              "      <td>5721</td>\n",
              "    </tr>\n",
              "    <tr>\n",
              "      <th>4</th>\n",
              "      <td>서울</td>\n",
              "      <td>전용면적 102㎡초과</td>\n",
              "      <td>2015</td>\n",
              "      <td>10</td>\n",
              "      <td>5879</td>\n",
              "    </tr>\n",
              "  </tbody>\n",
              "</table>\n",
              "</div>"
            ],
            "text/plain": [
              "  지역명               규모구분    연도   월 분양가격(㎡)\n",
              "0  서울                 전체  2015  10    5841\n",
              "1  서울         전용면적 60㎡이하  2015  10    5652\n",
              "2  서울   전용면적 60㎡초과 85㎡이하  2015  10    5882\n",
              "3  서울  전용면적 85㎡초과 102㎡이하  2015  10    5721\n",
              "4  서울        전용면적 102㎡초과  2015  10    5879"
            ]
          },
          "metadata": {
            "tags": []
          },
          "execution_count": 10
        }
      ]
    },
    {
      "cell_type": "code",
      "metadata": {
        "colab": {
          "base_uri": "https://localhost:8080/"
        },
        "id": "Yaj43o6XCAsH",
        "outputId": "bb7380a0-d9f5-45f2-f63e-9dd21026d905"
      },
      "source": [
        "# 지역명 == 서울 인 지역만 선택\r\n",
        "df.loc[df['지역명']=='서울','지역명'][:10]"
      ],
      "execution_count": 11,
      "outputs": [
        {
          "output_type": "execute_result",
          "data": {
            "text/plain": [
              "0     서울\n",
              "1     서울\n",
              "2     서울\n",
              "3     서울\n",
              "4     서울\n",
              "85    서울\n",
              "86    서울\n",
              "87    서울\n",
              "88    서울\n",
              "89    서울\n",
              "Name: 지역명, dtype: object"
            ]
          },
          "metadata": {
            "tags": []
          },
          "execution_count": 11
        }
      ]
    },
    {
      "cell_type": "code",
      "metadata": {
        "colab": {
          "base_uri": "https://localhost:8080/",
          "height": 198
        },
        "id": "9hwLSeQeCDS7",
        "outputId": "87623d8d-e863-4f3b-f266-456d45cd6c3f"
      },
      "source": [
        "# 지역명 == 서울 인 지역을 Seoul로 변경(값을 set)\r\n",
        "df.loc[df['지역명']=='서울','지역명'] = 'Seoul'\r\n",
        "df.head()"
      ],
      "execution_count": 13,
      "outputs": [
        {
          "output_type": "execute_result",
          "data": {
            "text/html": [
              "<div>\n",
              "<style scoped>\n",
              "    .dataframe tbody tr th:only-of-type {\n",
              "        vertical-align: middle;\n",
              "    }\n",
              "\n",
              "    .dataframe tbody tr th {\n",
              "        vertical-align: top;\n",
              "    }\n",
              "\n",
              "    .dataframe thead th {\n",
              "        text-align: right;\n",
              "    }\n",
              "</style>\n",
              "<table border=\"1\" class=\"dataframe\">\n",
              "  <thead>\n",
              "    <tr style=\"text-align: right;\">\n",
              "      <th></th>\n",
              "      <th>지역명</th>\n",
              "      <th>규모구분</th>\n",
              "      <th>연도</th>\n",
              "      <th>월</th>\n",
              "      <th>분양가격(㎡)</th>\n",
              "    </tr>\n",
              "  </thead>\n",
              "  <tbody>\n",
              "    <tr>\n",
              "      <th>0</th>\n",
              "      <td>Seoul</td>\n",
              "      <td>전체</td>\n",
              "      <td>2015</td>\n",
              "      <td>10</td>\n",
              "      <td>5841</td>\n",
              "    </tr>\n",
              "    <tr>\n",
              "      <th>1</th>\n",
              "      <td>Seoul</td>\n",
              "      <td>전용면적 60㎡이하</td>\n",
              "      <td>2015</td>\n",
              "      <td>10</td>\n",
              "      <td>5652</td>\n",
              "    </tr>\n",
              "    <tr>\n",
              "      <th>2</th>\n",
              "      <td>Seoul</td>\n",
              "      <td>전용면적 60㎡초과 85㎡이하</td>\n",
              "      <td>2015</td>\n",
              "      <td>10</td>\n",
              "      <td>5882</td>\n",
              "    </tr>\n",
              "    <tr>\n",
              "      <th>3</th>\n",
              "      <td>Seoul</td>\n",
              "      <td>전용면적 85㎡초과 102㎡이하</td>\n",
              "      <td>2015</td>\n",
              "      <td>10</td>\n",
              "      <td>5721</td>\n",
              "    </tr>\n",
              "    <tr>\n",
              "      <th>4</th>\n",
              "      <td>Seoul</td>\n",
              "      <td>전용면적 102㎡초과</td>\n",
              "      <td>2015</td>\n",
              "      <td>10</td>\n",
              "      <td>5879</td>\n",
              "    </tr>\n",
              "  </tbody>\n",
              "</table>\n",
              "</div>"
            ],
            "text/plain": [
              "     지역명               규모구분    연도   월 분양가격(㎡)\n",
              "0  Seoul                 전체  2015  10    5841\n",
              "1  Seoul         전용면적 60㎡이하  2015  10    5652\n",
              "2  Seoul   전용면적 60㎡초과 85㎡이하  2015  10    5882\n",
              "3  Seoul  전용면적 85㎡초과 102㎡이하  2015  10    5721\n",
              "4  Seoul        전용면적 102㎡초과  2015  10    5879"
            ]
          },
          "metadata": {
            "tags": []
          },
          "execution_count": 13
        }
      ]
    },
    {
      "cell_type": "code",
      "metadata": {
        "colab": {
          "base_uri": "https://localhost:8080/",
          "height": 258
        },
        "id": "pwcD9RTsCKMv",
        "outputId": "563b1a52-7a0d-4e2e-beee-18343ae83ccf"
      },
      "source": [
        "df1 = df.reindex(index=df.index[:7], columns=list(df.columns) + ['extra'])\r\n",
        "df1"
      ],
      "execution_count": 14,
      "outputs": [
        {
          "output_type": "execute_result",
          "data": {
            "text/html": [
              "<div>\n",
              "<style scoped>\n",
              "    .dataframe tbody tr th:only-of-type {\n",
              "        vertical-align: middle;\n",
              "    }\n",
              "\n",
              "    .dataframe tbody tr th {\n",
              "        vertical-align: top;\n",
              "    }\n",
              "\n",
              "    .dataframe thead th {\n",
              "        text-align: right;\n",
              "    }\n",
              "</style>\n",
              "<table border=\"1\" class=\"dataframe\">\n",
              "  <thead>\n",
              "    <tr style=\"text-align: right;\">\n",
              "      <th></th>\n",
              "      <th>지역명</th>\n",
              "      <th>규모구분</th>\n",
              "      <th>연도</th>\n",
              "      <th>월</th>\n",
              "      <th>분양가격(㎡)</th>\n",
              "      <th>extra</th>\n",
              "    </tr>\n",
              "  </thead>\n",
              "  <tbody>\n",
              "    <tr>\n",
              "      <th>0</th>\n",
              "      <td>Seoul</td>\n",
              "      <td>전체</td>\n",
              "      <td>2015</td>\n",
              "      <td>10</td>\n",
              "      <td>5841</td>\n",
              "      <td>NaN</td>\n",
              "    </tr>\n",
              "    <tr>\n",
              "      <th>1</th>\n",
              "      <td>Seoul</td>\n",
              "      <td>전용면적 60㎡이하</td>\n",
              "      <td>2015</td>\n",
              "      <td>10</td>\n",
              "      <td>5652</td>\n",
              "      <td>NaN</td>\n",
              "    </tr>\n",
              "    <tr>\n",
              "      <th>2</th>\n",
              "      <td>Seoul</td>\n",
              "      <td>전용면적 60㎡초과 85㎡이하</td>\n",
              "      <td>2015</td>\n",
              "      <td>10</td>\n",
              "      <td>5882</td>\n",
              "      <td>NaN</td>\n",
              "    </tr>\n",
              "    <tr>\n",
              "      <th>3</th>\n",
              "      <td>Seoul</td>\n",
              "      <td>전용면적 85㎡초과 102㎡이하</td>\n",
              "      <td>2015</td>\n",
              "      <td>10</td>\n",
              "      <td>5721</td>\n",
              "      <td>NaN</td>\n",
              "    </tr>\n",
              "    <tr>\n",
              "      <th>4</th>\n",
              "      <td>Seoul</td>\n",
              "      <td>전용면적 102㎡초과</td>\n",
              "      <td>2015</td>\n",
              "      <td>10</td>\n",
              "      <td>5879</td>\n",
              "      <td>NaN</td>\n",
              "    </tr>\n",
              "    <tr>\n",
              "      <th>5</th>\n",
              "      <td>인천</td>\n",
              "      <td>전체</td>\n",
              "      <td>2015</td>\n",
              "      <td>10</td>\n",
              "      <td>3163</td>\n",
              "      <td>NaN</td>\n",
              "    </tr>\n",
              "    <tr>\n",
              "      <th>6</th>\n",
              "      <td>인천</td>\n",
              "      <td>전용면적 60㎡이하</td>\n",
              "      <td>2015</td>\n",
              "      <td>10</td>\n",
              "      <td>3488</td>\n",
              "      <td>NaN</td>\n",
              "    </tr>\n",
              "  </tbody>\n",
              "</table>\n",
              "</div>"
            ],
            "text/plain": [
              "     지역명               규모구분    연도   월 분양가격(㎡)  extra\n",
              "0  Seoul                 전체  2015  10    5841    NaN\n",
              "1  Seoul         전용면적 60㎡이하  2015  10    5652    NaN\n",
              "2  Seoul   전용면적 60㎡초과 85㎡이하  2015  10    5882    NaN\n",
              "3  Seoul  전용면적 85㎡초과 102㎡이하  2015  10    5721    NaN\n",
              "4  Seoul        전용면적 102㎡초과  2015  10    5879    NaN\n",
              "5     인천                 전체  2015  10    3163    NaN\n",
              "6     인천         전용면적 60㎡이하  2015  10    3488    NaN"
            ]
          },
          "metadata": {
            "tags": []
          },
          "execution_count": 14
        }
      ]
    },
    {
      "cell_type": "code",
      "metadata": {
        "colab": {
          "base_uri": "https://localhost:8080/",
          "height": 258
        },
        "id": "A0kCgzYtDqSZ",
        "outputId": "4d61f419-06ba-4c3b-e998-644cddd80d41"
      },
      "source": [
        "df1.loc[:4, 'extra'] = False\r\n",
        "df1"
      ],
      "execution_count": 15,
      "outputs": [
        {
          "output_type": "execute_result",
          "data": {
            "text/html": [
              "<div>\n",
              "<style scoped>\n",
              "    .dataframe tbody tr th:only-of-type {\n",
              "        vertical-align: middle;\n",
              "    }\n",
              "\n",
              "    .dataframe tbody tr th {\n",
              "        vertical-align: top;\n",
              "    }\n",
              "\n",
              "    .dataframe thead th {\n",
              "        text-align: right;\n",
              "    }\n",
              "</style>\n",
              "<table border=\"1\" class=\"dataframe\">\n",
              "  <thead>\n",
              "    <tr style=\"text-align: right;\">\n",
              "      <th></th>\n",
              "      <th>지역명</th>\n",
              "      <th>규모구분</th>\n",
              "      <th>연도</th>\n",
              "      <th>월</th>\n",
              "      <th>분양가격(㎡)</th>\n",
              "      <th>extra</th>\n",
              "    </tr>\n",
              "  </thead>\n",
              "  <tbody>\n",
              "    <tr>\n",
              "      <th>0</th>\n",
              "      <td>Seoul</td>\n",
              "      <td>전체</td>\n",
              "      <td>2015</td>\n",
              "      <td>10</td>\n",
              "      <td>5841</td>\n",
              "      <td>False</td>\n",
              "    </tr>\n",
              "    <tr>\n",
              "      <th>1</th>\n",
              "      <td>Seoul</td>\n",
              "      <td>전용면적 60㎡이하</td>\n",
              "      <td>2015</td>\n",
              "      <td>10</td>\n",
              "      <td>5652</td>\n",
              "      <td>False</td>\n",
              "    </tr>\n",
              "    <tr>\n",
              "      <th>2</th>\n",
              "      <td>Seoul</td>\n",
              "      <td>전용면적 60㎡초과 85㎡이하</td>\n",
              "      <td>2015</td>\n",
              "      <td>10</td>\n",
              "      <td>5882</td>\n",
              "      <td>False</td>\n",
              "    </tr>\n",
              "    <tr>\n",
              "      <th>3</th>\n",
              "      <td>Seoul</td>\n",
              "      <td>전용면적 85㎡초과 102㎡이하</td>\n",
              "      <td>2015</td>\n",
              "      <td>10</td>\n",
              "      <td>5721</td>\n",
              "      <td>False</td>\n",
              "    </tr>\n",
              "    <tr>\n",
              "      <th>4</th>\n",
              "      <td>Seoul</td>\n",
              "      <td>전용면적 102㎡초과</td>\n",
              "      <td>2015</td>\n",
              "      <td>10</td>\n",
              "      <td>5879</td>\n",
              "      <td>False</td>\n",
              "    </tr>\n",
              "    <tr>\n",
              "      <th>5</th>\n",
              "      <td>인천</td>\n",
              "      <td>전체</td>\n",
              "      <td>2015</td>\n",
              "      <td>10</td>\n",
              "      <td>3163</td>\n",
              "      <td>NaN</td>\n",
              "    </tr>\n",
              "    <tr>\n",
              "      <th>6</th>\n",
              "      <td>인천</td>\n",
              "      <td>전용면적 60㎡이하</td>\n",
              "      <td>2015</td>\n",
              "      <td>10</td>\n",
              "      <td>3488</td>\n",
              "      <td>NaN</td>\n",
              "    </tr>\n",
              "  </tbody>\n",
              "</table>\n",
              "</div>"
            ],
            "text/plain": [
              "     지역명               규모구분    연도   월 분양가격(㎡)  extra\n",
              "0  Seoul                 전체  2015  10    5841  False\n",
              "1  Seoul         전용면적 60㎡이하  2015  10    5652  False\n",
              "2  Seoul   전용면적 60㎡초과 85㎡이하  2015  10    5882  False\n",
              "3  Seoul  전용면적 85㎡초과 102㎡이하  2015  10    5721  False\n",
              "4  Seoul        전용면적 102㎡초과  2015  10    5879  False\n",
              "5     인천                 전체  2015  10    3163    NaN\n",
              "6     인천         전용면적 60㎡이하  2015  10    3488    NaN"
            ]
          },
          "metadata": {
            "tags": []
          },
          "execution_count": 15
        }
      ]
    },
    {
      "cell_type": "code",
      "metadata": {
        "colab": {
          "base_uri": "https://localhost:8080/",
          "height": 258
        },
        "id": "VMEvg5qWDyQ0",
        "outputId": "ce43f5a6-e6e8-4d5e-e871-bb6d99406498"
      },
      "source": [
        "df2 = df1.copy()\r\n",
        "df2"
      ],
      "execution_count": 16,
      "outputs": [
        {
          "output_type": "execute_result",
          "data": {
            "text/html": [
              "<div>\n",
              "<style scoped>\n",
              "    .dataframe tbody tr th:only-of-type {\n",
              "        vertical-align: middle;\n",
              "    }\n",
              "\n",
              "    .dataframe tbody tr th {\n",
              "        vertical-align: top;\n",
              "    }\n",
              "\n",
              "    .dataframe thead th {\n",
              "        text-align: right;\n",
              "    }\n",
              "</style>\n",
              "<table border=\"1\" class=\"dataframe\">\n",
              "  <thead>\n",
              "    <tr style=\"text-align: right;\">\n",
              "      <th></th>\n",
              "      <th>지역명</th>\n",
              "      <th>규모구분</th>\n",
              "      <th>연도</th>\n",
              "      <th>월</th>\n",
              "      <th>분양가격(㎡)</th>\n",
              "      <th>extra</th>\n",
              "    </tr>\n",
              "  </thead>\n",
              "  <tbody>\n",
              "    <tr>\n",
              "      <th>0</th>\n",
              "      <td>Seoul</td>\n",
              "      <td>전체</td>\n",
              "      <td>2015</td>\n",
              "      <td>10</td>\n",
              "      <td>5841</td>\n",
              "      <td>False</td>\n",
              "    </tr>\n",
              "    <tr>\n",
              "      <th>1</th>\n",
              "      <td>Seoul</td>\n",
              "      <td>전용면적 60㎡이하</td>\n",
              "      <td>2015</td>\n",
              "      <td>10</td>\n",
              "      <td>5652</td>\n",
              "      <td>False</td>\n",
              "    </tr>\n",
              "    <tr>\n",
              "      <th>2</th>\n",
              "      <td>Seoul</td>\n",
              "      <td>전용면적 60㎡초과 85㎡이하</td>\n",
              "      <td>2015</td>\n",
              "      <td>10</td>\n",
              "      <td>5882</td>\n",
              "      <td>False</td>\n",
              "    </tr>\n",
              "    <tr>\n",
              "      <th>3</th>\n",
              "      <td>Seoul</td>\n",
              "      <td>전용면적 85㎡초과 102㎡이하</td>\n",
              "      <td>2015</td>\n",
              "      <td>10</td>\n",
              "      <td>5721</td>\n",
              "      <td>False</td>\n",
              "    </tr>\n",
              "    <tr>\n",
              "      <th>4</th>\n",
              "      <td>Seoul</td>\n",
              "      <td>전용면적 102㎡초과</td>\n",
              "      <td>2015</td>\n",
              "      <td>10</td>\n",
              "      <td>5879</td>\n",
              "      <td>False</td>\n",
              "    </tr>\n",
              "    <tr>\n",
              "      <th>5</th>\n",
              "      <td>인천</td>\n",
              "      <td>전체</td>\n",
              "      <td>2015</td>\n",
              "      <td>10</td>\n",
              "      <td>3163</td>\n",
              "      <td>NaN</td>\n",
              "    </tr>\n",
              "    <tr>\n",
              "      <th>6</th>\n",
              "      <td>인천</td>\n",
              "      <td>전용면적 60㎡이하</td>\n",
              "      <td>2015</td>\n",
              "      <td>10</td>\n",
              "      <td>3488</td>\n",
              "      <td>NaN</td>\n",
              "    </tr>\n",
              "  </tbody>\n",
              "</table>\n",
              "</div>"
            ],
            "text/plain": [
              "     지역명               규모구분    연도   월 분양가격(㎡)  extra\n",
              "0  Seoul                 전체  2015  10    5841  False\n",
              "1  Seoul         전용면적 60㎡이하  2015  10    5652  False\n",
              "2  Seoul   전용면적 60㎡초과 85㎡이하  2015  10    5882  False\n",
              "3  Seoul  전용면적 85㎡초과 102㎡이하  2015  10    5721  False\n",
              "4  Seoul        전용면적 102㎡초과  2015  10    5879  False\n",
              "5     인천                 전체  2015  10    3163    NaN\n",
              "6     인천         전용면적 60㎡이하  2015  10    3488    NaN"
            ]
          },
          "metadata": {
            "tags": []
          },
          "execution_count": 16
        }
      ]
    },
    {
      "cell_type": "code",
      "metadata": {
        "colab": {
          "base_uri": "https://localhost:8080/",
          "height": 198
        },
        "id": "TJYHwIprEgYc",
        "outputId": "af52417b-2758-4d97-eb6e-1920f84df2c0"
      },
      "source": [
        "df2.dropna(how='any')"
      ],
      "execution_count": 17,
      "outputs": [
        {
          "output_type": "execute_result",
          "data": {
            "text/html": [
              "<div>\n",
              "<style scoped>\n",
              "    .dataframe tbody tr th:only-of-type {\n",
              "        vertical-align: middle;\n",
              "    }\n",
              "\n",
              "    .dataframe tbody tr th {\n",
              "        vertical-align: top;\n",
              "    }\n",
              "\n",
              "    .dataframe thead th {\n",
              "        text-align: right;\n",
              "    }\n",
              "</style>\n",
              "<table border=\"1\" class=\"dataframe\">\n",
              "  <thead>\n",
              "    <tr style=\"text-align: right;\">\n",
              "      <th></th>\n",
              "      <th>지역명</th>\n",
              "      <th>규모구분</th>\n",
              "      <th>연도</th>\n",
              "      <th>월</th>\n",
              "      <th>분양가격(㎡)</th>\n",
              "      <th>extra</th>\n",
              "    </tr>\n",
              "  </thead>\n",
              "  <tbody>\n",
              "    <tr>\n",
              "      <th>0</th>\n",
              "      <td>Seoul</td>\n",
              "      <td>전체</td>\n",
              "      <td>2015</td>\n",
              "      <td>10</td>\n",
              "      <td>5841</td>\n",
              "      <td>False</td>\n",
              "    </tr>\n",
              "    <tr>\n",
              "      <th>1</th>\n",
              "      <td>Seoul</td>\n",
              "      <td>전용면적 60㎡이하</td>\n",
              "      <td>2015</td>\n",
              "      <td>10</td>\n",
              "      <td>5652</td>\n",
              "      <td>False</td>\n",
              "    </tr>\n",
              "    <tr>\n",
              "      <th>2</th>\n",
              "      <td>Seoul</td>\n",
              "      <td>전용면적 60㎡초과 85㎡이하</td>\n",
              "      <td>2015</td>\n",
              "      <td>10</td>\n",
              "      <td>5882</td>\n",
              "      <td>False</td>\n",
              "    </tr>\n",
              "    <tr>\n",
              "      <th>3</th>\n",
              "      <td>Seoul</td>\n",
              "      <td>전용면적 85㎡초과 102㎡이하</td>\n",
              "      <td>2015</td>\n",
              "      <td>10</td>\n",
              "      <td>5721</td>\n",
              "      <td>False</td>\n",
              "    </tr>\n",
              "    <tr>\n",
              "      <th>4</th>\n",
              "      <td>Seoul</td>\n",
              "      <td>전용면적 102㎡초과</td>\n",
              "      <td>2015</td>\n",
              "      <td>10</td>\n",
              "      <td>5879</td>\n",
              "      <td>False</td>\n",
              "    </tr>\n",
              "  </tbody>\n",
              "</table>\n",
              "</div>"
            ],
            "text/plain": [
              "     지역명               규모구분    연도   월 분양가격(㎡)  extra\n",
              "0  Seoul                 전체  2015  10    5841  False\n",
              "1  Seoul         전용면적 60㎡이하  2015  10    5652  False\n",
              "2  Seoul   전용면적 60㎡초과 85㎡이하  2015  10    5882  False\n",
              "3  Seoul  전용면적 85㎡초과 102㎡이하  2015  10    5721  False\n",
              "4  Seoul        전용면적 102㎡초과  2015  10    5879  False"
            ]
          },
          "metadata": {
            "tags": []
          },
          "execution_count": 17
        }
      ]
    },
    {
      "cell_type": "code",
      "metadata": {
        "colab": {
          "base_uri": "https://localhost:8080/",
          "height": 198
        },
        "id": "Rc3zDRfnEx21",
        "outputId": "04ca1cf2-57dd-4ad9-9a65-4f21b8e153e9"
      },
      "source": [
        "#원본 데이터에 반영\r\n",
        "df2.dropna(how='any', inplace=True)\r\n",
        "df2"
      ],
      "execution_count": 18,
      "outputs": [
        {
          "output_type": "execute_result",
          "data": {
            "text/html": [
              "<div>\n",
              "<style scoped>\n",
              "    .dataframe tbody tr th:only-of-type {\n",
              "        vertical-align: middle;\n",
              "    }\n",
              "\n",
              "    .dataframe tbody tr th {\n",
              "        vertical-align: top;\n",
              "    }\n",
              "\n",
              "    .dataframe thead th {\n",
              "        text-align: right;\n",
              "    }\n",
              "</style>\n",
              "<table border=\"1\" class=\"dataframe\">\n",
              "  <thead>\n",
              "    <tr style=\"text-align: right;\">\n",
              "      <th></th>\n",
              "      <th>지역명</th>\n",
              "      <th>규모구분</th>\n",
              "      <th>연도</th>\n",
              "      <th>월</th>\n",
              "      <th>분양가격(㎡)</th>\n",
              "      <th>extra</th>\n",
              "    </tr>\n",
              "  </thead>\n",
              "  <tbody>\n",
              "    <tr>\n",
              "      <th>0</th>\n",
              "      <td>Seoul</td>\n",
              "      <td>전체</td>\n",
              "      <td>2015</td>\n",
              "      <td>10</td>\n",
              "      <td>5841</td>\n",
              "      <td>False</td>\n",
              "    </tr>\n",
              "    <tr>\n",
              "      <th>1</th>\n",
              "      <td>Seoul</td>\n",
              "      <td>전용면적 60㎡이하</td>\n",
              "      <td>2015</td>\n",
              "      <td>10</td>\n",
              "      <td>5652</td>\n",
              "      <td>False</td>\n",
              "    </tr>\n",
              "    <tr>\n",
              "      <th>2</th>\n",
              "      <td>Seoul</td>\n",
              "      <td>전용면적 60㎡초과 85㎡이하</td>\n",
              "      <td>2015</td>\n",
              "      <td>10</td>\n",
              "      <td>5882</td>\n",
              "      <td>False</td>\n",
              "    </tr>\n",
              "    <tr>\n",
              "      <th>3</th>\n",
              "      <td>Seoul</td>\n",
              "      <td>전용면적 85㎡초과 102㎡이하</td>\n",
              "      <td>2015</td>\n",
              "      <td>10</td>\n",
              "      <td>5721</td>\n",
              "      <td>False</td>\n",
              "    </tr>\n",
              "    <tr>\n",
              "      <th>4</th>\n",
              "      <td>Seoul</td>\n",
              "      <td>전용면적 102㎡초과</td>\n",
              "      <td>2015</td>\n",
              "      <td>10</td>\n",
              "      <td>5879</td>\n",
              "      <td>False</td>\n",
              "    </tr>\n",
              "  </tbody>\n",
              "</table>\n",
              "</div>"
            ],
            "text/plain": [
              "     지역명               규모구분    연도   월 분양가격(㎡)  extra\n",
              "0  Seoul                 전체  2015  10    5841  False\n",
              "1  Seoul         전용면적 60㎡이하  2015  10    5652  False\n",
              "2  Seoul   전용면적 60㎡초과 85㎡이하  2015  10    5882  False\n",
              "3  Seoul  전용면적 85㎡초과 102㎡이하  2015  10    5721  False\n",
              "4  Seoul        전용면적 102㎡초과  2015  10    5879  False"
            ]
          },
          "metadata": {
            "tags": []
          },
          "execution_count": 18
        }
      ]
    },
    {
      "cell_type": "code",
      "metadata": {
        "colab": {
          "base_uri": "https://localhost:8080/",
          "height": 258
        },
        "id": "6V1HY-i7E8Fx",
        "outputId": "29232d48-f81e-46ba-84fa-d6a2fca09905"
      },
      "source": [
        "df2 = df1.copy()\r\n",
        "df2.fillna(value=True)"
      ],
      "execution_count": 19,
      "outputs": [
        {
          "output_type": "execute_result",
          "data": {
            "text/html": [
              "<div>\n",
              "<style scoped>\n",
              "    .dataframe tbody tr th:only-of-type {\n",
              "        vertical-align: middle;\n",
              "    }\n",
              "\n",
              "    .dataframe tbody tr th {\n",
              "        vertical-align: top;\n",
              "    }\n",
              "\n",
              "    .dataframe thead th {\n",
              "        text-align: right;\n",
              "    }\n",
              "</style>\n",
              "<table border=\"1\" class=\"dataframe\">\n",
              "  <thead>\n",
              "    <tr style=\"text-align: right;\">\n",
              "      <th></th>\n",
              "      <th>지역명</th>\n",
              "      <th>규모구분</th>\n",
              "      <th>연도</th>\n",
              "      <th>월</th>\n",
              "      <th>분양가격(㎡)</th>\n",
              "      <th>extra</th>\n",
              "    </tr>\n",
              "  </thead>\n",
              "  <tbody>\n",
              "    <tr>\n",
              "      <th>0</th>\n",
              "      <td>Seoul</td>\n",
              "      <td>전체</td>\n",
              "      <td>2015</td>\n",
              "      <td>10</td>\n",
              "      <td>5841</td>\n",
              "      <td>False</td>\n",
              "    </tr>\n",
              "    <tr>\n",
              "      <th>1</th>\n",
              "      <td>Seoul</td>\n",
              "      <td>전용면적 60㎡이하</td>\n",
              "      <td>2015</td>\n",
              "      <td>10</td>\n",
              "      <td>5652</td>\n",
              "      <td>False</td>\n",
              "    </tr>\n",
              "    <tr>\n",
              "      <th>2</th>\n",
              "      <td>Seoul</td>\n",
              "      <td>전용면적 60㎡초과 85㎡이하</td>\n",
              "      <td>2015</td>\n",
              "      <td>10</td>\n",
              "      <td>5882</td>\n",
              "      <td>False</td>\n",
              "    </tr>\n",
              "    <tr>\n",
              "      <th>3</th>\n",
              "      <td>Seoul</td>\n",
              "      <td>전용면적 85㎡초과 102㎡이하</td>\n",
              "      <td>2015</td>\n",
              "      <td>10</td>\n",
              "      <td>5721</td>\n",
              "      <td>False</td>\n",
              "    </tr>\n",
              "    <tr>\n",
              "      <th>4</th>\n",
              "      <td>Seoul</td>\n",
              "      <td>전용면적 102㎡초과</td>\n",
              "      <td>2015</td>\n",
              "      <td>10</td>\n",
              "      <td>5879</td>\n",
              "      <td>False</td>\n",
              "    </tr>\n",
              "    <tr>\n",
              "      <th>5</th>\n",
              "      <td>인천</td>\n",
              "      <td>전체</td>\n",
              "      <td>2015</td>\n",
              "      <td>10</td>\n",
              "      <td>3163</td>\n",
              "      <td>True</td>\n",
              "    </tr>\n",
              "    <tr>\n",
              "      <th>6</th>\n",
              "      <td>인천</td>\n",
              "      <td>전용면적 60㎡이하</td>\n",
              "      <td>2015</td>\n",
              "      <td>10</td>\n",
              "      <td>3488</td>\n",
              "      <td>True</td>\n",
              "    </tr>\n",
              "  </tbody>\n",
              "</table>\n",
              "</div>"
            ],
            "text/plain": [
              "     지역명               규모구분    연도   월 분양가격(㎡)  extra\n",
              "0  Seoul                 전체  2015  10    5841  False\n",
              "1  Seoul         전용면적 60㎡이하  2015  10    5652  False\n",
              "2  Seoul   전용면적 60㎡초과 85㎡이하  2015  10    5882  False\n",
              "3  Seoul  전용면적 85㎡초과 102㎡이하  2015  10    5721  False\n",
              "4  Seoul        전용면적 102㎡초과  2015  10    5879  False\n",
              "5     인천                 전체  2015  10    3163   True\n",
              "6     인천         전용면적 60㎡이하  2015  10    3488   True"
            ]
          },
          "metadata": {
            "tags": []
          },
          "execution_count": 19
        }
      ]
    },
    {
      "cell_type": "code",
      "metadata": {
        "colab": {
          "base_uri": "https://localhost:8080/",
          "height": 258
        },
        "id": "aEf-Qi7dGEiL",
        "outputId": "1e74d3bd-e6aa-4252-c5db-a91ebfafd1cf"
      },
      "source": [
        "pd.isna(df2)"
      ],
      "execution_count": 20,
      "outputs": [
        {
          "output_type": "execute_result",
          "data": {
            "text/html": [
              "<div>\n",
              "<style scoped>\n",
              "    .dataframe tbody tr th:only-of-type {\n",
              "        vertical-align: middle;\n",
              "    }\n",
              "\n",
              "    .dataframe tbody tr th {\n",
              "        vertical-align: top;\n",
              "    }\n",
              "\n",
              "    .dataframe thead th {\n",
              "        text-align: right;\n",
              "    }\n",
              "</style>\n",
              "<table border=\"1\" class=\"dataframe\">\n",
              "  <thead>\n",
              "    <tr style=\"text-align: right;\">\n",
              "      <th></th>\n",
              "      <th>지역명</th>\n",
              "      <th>규모구분</th>\n",
              "      <th>연도</th>\n",
              "      <th>월</th>\n",
              "      <th>분양가격(㎡)</th>\n",
              "      <th>extra</th>\n",
              "    </tr>\n",
              "  </thead>\n",
              "  <tbody>\n",
              "    <tr>\n",
              "      <th>0</th>\n",
              "      <td>False</td>\n",
              "      <td>False</td>\n",
              "      <td>False</td>\n",
              "      <td>False</td>\n",
              "      <td>False</td>\n",
              "      <td>False</td>\n",
              "    </tr>\n",
              "    <tr>\n",
              "      <th>1</th>\n",
              "      <td>False</td>\n",
              "      <td>False</td>\n",
              "      <td>False</td>\n",
              "      <td>False</td>\n",
              "      <td>False</td>\n",
              "      <td>False</td>\n",
              "    </tr>\n",
              "    <tr>\n",
              "      <th>2</th>\n",
              "      <td>False</td>\n",
              "      <td>False</td>\n",
              "      <td>False</td>\n",
              "      <td>False</td>\n",
              "      <td>False</td>\n",
              "      <td>False</td>\n",
              "    </tr>\n",
              "    <tr>\n",
              "      <th>3</th>\n",
              "      <td>False</td>\n",
              "      <td>False</td>\n",
              "      <td>False</td>\n",
              "      <td>False</td>\n",
              "      <td>False</td>\n",
              "      <td>False</td>\n",
              "    </tr>\n",
              "    <tr>\n",
              "      <th>4</th>\n",
              "      <td>False</td>\n",
              "      <td>False</td>\n",
              "      <td>False</td>\n",
              "      <td>False</td>\n",
              "      <td>False</td>\n",
              "      <td>False</td>\n",
              "    </tr>\n",
              "    <tr>\n",
              "      <th>5</th>\n",
              "      <td>False</td>\n",
              "      <td>False</td>\n",
              "      <td>False</td>\n",
              "      <td>False</td>\n",
              "      <td>False</td>\n",
              "      <td>True</td>\n",
              "    </tr>\n",
              "    <tr>\n",
              "      <th>6</th>\n",
              "      <td>False</td>\n",
              "      <td>False</td>\n",
              "      <td>False</td>\n",
              "      <td>False</td>\n",
              "      <td>False</td>\n",
              "      <td>True</td>\n",
              "    </tr>\n",
              "  </tbody>\n",
              "</table>\n",
              "</div>"
            ],
            "text/plain": [
              "     지역명   규모구분     연도      월  분양가격(㎡)  extra\n",
              "0  False  False  False  False    False  False\n",
              "1  False  False  False  False    False  False\n",
              "2  False  False  False  False    False  False\n",
              "3  False  False  False  False    False  False\n",
              "4  False  False  False  False    False  False\n",
              "5  False  False  False  False    False   True\n",
              "6  False  False  False  False    False   True"
            ]
          },
          "metadata": {
            "tags": []
          },
          "execution_count": 20
        }
      ]
    },
    {
      "cell_type": "code",
      "metadata": {
        "colab": {
          "base_uri": "https://localhost:8080/"
        },
        "id": "iXskMS5UGW_H",
        "outputId": "8e3f5ca4-07d0-473d-f021-018846944940"
      },
      "source": [
        "df.mean() #df.mean(0)"
      ],
      "execution_count": 21,
      "outputs": [
        {
          "output_type": "execute_result",
          "data": {
            "text/plain": [
              "연도    2017.5\n",
              "월        6.5\n",
              "dtype: float64"
            ]
          },
          "metadata": {
            "tags": []
          },
          "execution_count": 21
        }
      ]
    },
    {
      "cell_type": "code",
      "metadata": {
        "colab": {
          "base_uri": "https://localhost:8080/"
        },
        "id": "uQn0MHEpGaHa",
        "outputId": "aa8d4498-ddd2-4da7-df92-610ea5b9add8"
      },
      "source": [
        "df.mean(1)[:5]"
      ],
      "execution_count": 22,
      "outputs": [
        {
          "output_type": "execute_result",
          "data": {
            "text/plain": [
              "0    1012.5\n",
              "1    1012.5\n",
              "2    1012.5\n",
              "3    1012.5\n",
              "4    1012.5\n",
              "dtype: float64"
            ]
          },
          "metadata": {
            "tags": []
          },
          "execution_count": 22
        }
      ]
    },
    {
      "cell_type": "code",
      "metadata": {
        "colab": {
          "base_uri": "https://localhost:8080/",
          "height": 198
        },
        "id": "F4CT2UgmHG6t",
        "outputId": "98fc9dbe-7e30-4b01-8382-f51adc0595b0"
      },
      "source": [
        "df.shift(2)[:5]"
      ],
      "execution_count": 23,
      "outputs": [
        {
          "output_type": "execute_result",
          "data": {
            "text/html": [
              "<div>\n",
              "<style scoped>\n",
              "    .dataframe tbody tr th:only-of-type {\n",
              "        vertical-align: middle;\n",
              "    }\n",
              "\n",
              "    .dataframe tbody tr th {\n",
              "        vertical-align: top;\n",
              "    }\n",
              "\n",
              "    .dataframe thead th {\n",
              "        text-align: right;\n",
              "    }\n",
              "</style>\n",
              "<table border=\"1\" class=\"dataframe\">\n",
              "  <thead>\n",
              "    <tr style=\"text-align: right;\">\n",
              "      <th></th>\n",
              "      <th>지역명</th>\n",
              "      <th>규모구분</th>\n",
              "      <th>연도</th>\n",
              "      <th>월</th>\n",
              "      <th>분양가격(㎡)</th>\n",
              "    </tr>\n",
              "  </thead>\n",
              "  <tbody>\n",
              "    <tr>\n",
              "      <th>0</th>\n",
              "      <td>NaN</td>\n",
              "      <td>NaN</td>\n",
              "      <td>NaN</td>\n",
              "      <td>NaN</td>\n",
              "      <td>NaN</td>\n",
              "    </tr>\n",
              "    <tr>\n",
              "      <th>1</th>\n",
              "      <td>NaN</td>\n",
              "      <td>NaN</td>\n",
              "      <td>NaN</td>\n",
              "      <td>NaN</td>\n",
              "      <td>NaN</td>\n",
              "    </tr>\n",
              "    <tr>\n",
              "      <th>2</th>\n",
              "      <td>Seoul</td>\n",
              "      <td>전체</td>\n",
              "      <td>2015.0</td>\n",
              "      <td>10.0</td>\n",
              "      <td>5841</td>\n",
              "    </tr>\n",
              "    <tr>\n",
              "      <th>3</th>\n",
              "      <td>Seoul</td>\n",
              "      <td>전용면적 60㎡이하</td>\n",
              "      <td>2015.0</td>\n",
              "      <td>10.0</td>\n",
              "      <td>5652</td>\n",
              "    </tr>\n",
              "    <tr>\n",
              "      <th>4</th>\n",
              "      <td>Seoul</td>\n",
              "      <td>전용면적 60㎡초과 85㎡이하</td>\n",
              "      <td>2015.0</td>\n",
              "      <td>10.0</td>\n",
              "      <td>5882</td>\n",
              "    </tr>\n",
              "  </tbody>\n",
              "</table>\n",
              "</div>"
            ],
            "text/plain": [
              "     지역명              규모구분      연도     월 분양가격(㎡)\n",
              "0    NaN               NaN     NaN   NaN     NaN\n",
              "1    NaN               NaN     NaN   NaN     NaN\n",
              "2  Seoul                전체  2015.0  10.0    5841\n",
              "3  Seoul        전용면적 60㎡이하  2015.0  10.0    5652\n",
              "4  Seoul  전용면적 60㎡초과 85㎡이하  2015.0  10.0    5882"
            ]
          },
          "metadata": {
            "tags": []
          },
          "execution_count": 23
        }
      ]
    },
    {
      "cell_type": "code",
      "metadata": {
        "colab": {
          "base_uri": "https://localhost:8080/",
          "height": 198
        },
        "id": "Ppe-m4e1HXdl",
        "outputId": "9976a029-f6b4-479f-e76a-b3a252fd2ed9"
      },
      "source": [
        "df.shift(-2)[:5]"
      ],
      "execution_count": 24,
      "outputs": [
        {
          "output_type": "execute_result",
          "data": {
            "text/html": [
              "<div>\n",
              "<style scoped>\n",
              "    .dataframe tbody tr th:only-of-type {\n",
              "        vertical-align: middle;\n",
              "    }\n",
              "\n",
              "    .dataframe tbody tr th {\n",
              "        vertical-align: top;\n",
              "    }\n",
              "\n",
              "    .dataframe thead th {\n",
              "        text-align: right;\n",
              "    }\n",
              "</style>\n",
              "<table border=\"1\" class=\"dataframe\">\n",
              "  <thead>\n",
              "    <tr style=\"text-align: right;\">\n",
              "      <th></th>\n",
              "      <th>지역명</th>\n",
              "      <th>규모구분</th>\n",
              "      <th>연도</th>\n",
              "      <th>월</th>\n",
              "      <th>분양가격(㎡)</th>\n",
              "    </tr>\n",
              "  </thead>\n",
              "  <tbody>\n",
              "    <tr>\n",
              "      <th>0</th>\n",
              "      <td>Seoul</td>\n",
              "      <td>전용면적 60㎡초과 85㎡이하</td>\n",
              "      <td>2015.0</td>\n",
              "      <td>10.0</td>\n",
              "      <td>5882</td>\n",
              "    </tr>\n",
              "    <tr>\n",
              "      <th>1</th>\n",
              "      <td>Seoul</td>\n",
              "      <td>전용면적 85㎡초과 102㎡이하</td>\n",
              "      <td>2015.0</td>\n",
              "      <td>10.0</td>\n",
              "      <td>5721</td>\n",
              "    </tr>\n",
              "    <tr>\n",
              "      <th>2</th>\n",
              "      <td>Seoul</td>\n",
              "      <td>전용면적 102㎡초과</td>\n",
              "      <td>2015.0</td>\n",
              "      <td>10.0</td>\n",
              "      <td>5879</td>\n",
              "    </tr>\n",
              "    <tr>\n",
              "      <th>3</th>\n",
              "      <td>인천</td>\n",
              "      <td>전체</td>\n",
              "      <td>2015.0</td>\n",
              "      <td>10.0</td>\n",
              "      <td>3163</td>\n",
              "    </tr>\n",
              "    <tr>\n",
              "      <th>4</th>\n",
              "      <td>인천</td>\n",
              "      <td>전용면적 60㎡이하</td>\n",
              "      <td>2015.0</td>\n",
              "      <td>10.0</td>\n",
              "      <td>3488</td>\n",
              "    </tr>\n",
              "  </tbody>\n",
              "</table>\n",
              "</div>"
            ],
            "text/plain": [
              "     지역명               규모구분      연도     월 분양가격(㎡)\n",
              "0  Seoul   전용면적 60㎡초과 85㎡이하  2015.0  10.0    5882\n",
              "1  Seoul  전용면적 85㎡초과 102㎡이하  2015.0  10.0    5721\n",
              "2  Seoul        전용면적 102㎡초과  2015.0  10.0    5879\n",
              "3     인천                 전체  2015.0  10.0    3163\n",
              "4     인천         전용면적 60㎡이하  2015.0  10.0    3488"
            ]
          },
          "metadata": {
            "tags": []
          },
          "execution_count": 24
        }
      ]
    },
    {
      "cell_type": "code",
      "metadata": {
        "colab": {
          "base_uri": "https://localhost:8080/"
        },
        "id": "L8StJx8tHeFE",
        "outputId": "dbef2d9f-6902-4933-822d-1a4fccfa55d6"
      },
      "source": [
        "df1 = df[['연도', '월']]\r\n",
        "df1.shape"
      ],
      "execution_count": 25,
      "outputs": [
        {
          "output_type": "execute_result",
          "data": {
            "text/plain": [
              "(4590, 2)"
            ]
          },
          "metadata": {
            "tags": []
          },
          "execution_count": 25
        }
      ]
    },
    {
      "cell_type": "code",
      "metadata": {
        "colab": {
          "base_uri": "https://localhost:8080/"
        },
        "id": "14qfeZPmHvZ3",
        "outputId": "dffa45a3-a759-499e-c470-16b2ffaecdba"
      },
      "source": [
        "s = np.ones(df.shape[0])\r\n",
        "s.shape"
      ],
      "execution_count": 28,
      "outputs": [
        {
          "output_type": "execute_result",
          "data": {
            "text/plain": [
              "(4590,)"
            ]
          },
          "metadata": {
            "tags": []
          },
          "execution_count": 28
        }
      ]
    },
    {
      "cell_type": "code",
      "metadata": {
        "colab": {
          "base_uri": "https://localhost:8080/",
          "height": 198
        },
        "id": "tR8yRtMxJhFJ",
        "outputId": "a28c3a3c-ed1f-447d-a283-38e5dd084ac8"
      },
      "source": [
        "df1.head()"
      ],
      "execution_count": 31,
      "outputs": [
        {
          "output_type": "execute_result",
          "data": {
            "text/html": [
              "<div>\n",
              "<style scoped>\n",
              "    .dataframe tbody tr th:only-of-type {\n",
              "        vertical-align: middle;\n",
              "    }\n",
              "\n",
              "    .dataframe tbody tr th {\n",
              "        vertical-align: top;\n",
              "    }\n",
              "\n",
              "    .dataframe thead th {\n",
              "        text-align: right;\n",
              "    }\n",
              "</style>\n",
              "<table border=\"1\" class=\"dataframe\">\n",
              "  <thead>\n",
              "    <tr style=\"text-align: right;\">\n",
              "      <th></th>\n",
              "      <th>연도</th>\n",
              "      <th>월</th>\n",
              "    </tr>\n",
              "  </thead>\n",
              "  <tbody>\n",
              "    <tr>\n",
              "      <th>0</th>\n",
              "      <td>2015</td>\n",
              "      <td>10</td>\n",
              "    </tr>\n",
              "    <tr>\n",
              "      <th>1</th>\n",
              "      <td>2015</td>\n",
              "      <td>10</td>\n",
              "    </tr>\n",
              "    <tr>\n",
              "      <th>2</th>\n",
              "      <td>2015</td>\n",
              "      <td>10</td>\n",
              "    </tr>\n",
              "    <tr>\n",
              "      <th>3</th>\n",
              "      <td>2015</td>\n",
              "      <td>10</td>\n",
              "    </tr>\n",
              "    <tr>\n",
              "      <th>4</th>\n",
              "      <td>2015</td>\n",
              "      <td>10</td>\n",
              "    </tr>\n",
              "  </tbody>\n",
              "</table>\n",
              "</div>"
            ],
            "text/plain": [
              "     연도   월\n",
              "0  2015  10\n",
              "1  2015  10\n",
              "2  2015  10\n",
              "3  2015  10\n",
              "4  2015  10"
            ]
          },
          "metadata": {
            "tags": []
          },
          "execution_count": 31
        }
      ]
    },
    {
      "cell_type": "code",
      "metadata": {
        "colab": {
          "base_uri": "https://localhost:8080/",
          "height": 198
        },
        "id": "ub60FXCrJepL",
        "outputId": "06c0e554-5324-4e6e-908a-2aeebb6b2037"
      },
      "source": [
        "#칼럼씩 빼기\r\n",
        "df1.sub(s, axis=0).head()"
      ],
      "execution_count": 38,
      "outputs": [
        {
          "output_type": "execute_result",
          "data": {
            "text/html": [
              "<div>\n",
              "<style scoped>\n",
              "    .dataframe tbody tr th:only-of-type {\n",
              "        vertical-align: middle;\n",
              "    }\n",
              "\n",
              "    .dataframe tbody tr th {\n",
              "        vertical-align: top;\n",
              "    }\n",
              "\n",
              "    .dataframe thead th {\n",
              "        text-align: right;\n",
              "    }\n",
              "</style>\n",
              "<table border=\"1\" class=\"dataframe\">\n",
              "  <thead>\n",
              "    <tr style=\"text-align: right;\">\n",
              "      <th></th>\n",
              "      <th>연도</th>\n",
              "      <th>월</th>\n",
              "    </tr>\n",
              "  </thead>\n",
              "  <tbody>\n",
              "    <tr>\n",
              "      <th>0</th>\n",
              "      <td>2014.0</td>\n",
              "      <td>9.0</td>\n",
              "    </tr>\n",
              "    <tr>\n",
              "      <th>1</th>\n",
              "      <td>2014.0</td>\n",
              "      <td>9.0</td>\n",
              "    </tr>\n",
              "    <tr>\n",
              "      <th>2</th>\n",
              "      <td>2014.0</td>\n",
              "      <td>9.0</td>\n",
              "    </tr>\n",
              "    <tr>\n",
              "      <th>3</th>\n",
              "      <td>2014.0</td>\n",
              "      <td>9.0</td>\n",
              "    </tr>\n",
              "    <tr>\n",
              "      <th>4</th>\n",
              "      <td>2014.0</td>\n",
              "      <td>9.0</td>\n",
              "    </tr>\n",
              "  </tbody>\n",
              "</table>\n",
              "</div>"
            ],
            "text/plain": [
              "       연도    월\n",
              "0  2014.0  9.0\n",
              "1  2014.0  9.0\n",
              "2  2014.0  9.0\n",
              "3  2014.0  9.0\n",
              "4  2014.0  9.0"
            ]
          },
          "metadata": {
            "tags": []
          },
          "execution_count": 38
        }
      ]
    },
    {
      "cell_type": "markdown",
      "metadata": {
        "id": "o09sAZV8b5zs"
      },
      "source": [
        "출처: https://teddylee777.github.io/pandas/10minutes-to-pandas-%EB%B6%80%EB%8F%99%EC%82%B0%EC%8B%A4%EC%A0%9C%EB%8D%B0%EC%9D%B4%ED%84%B0-%ED%99%9C%EC%9A%A9%ED%95%98%EA%B8%B0"
      ]
    },
    {
      "cell_type": "code",
      "metadata": {
        "colab": {
          "base_uri": "https://localhost:8080/",
          "height": 198
        },
        "id": "jK8FL87gLTQy",
        "outputId": "b3dc44b4-6342-49a0-8bd0-d988f1a50e01"
      },
      "source": [
        "#index씩 빼기\r\n",
        "s = np.ones(df1.shape[1])\r\n",
        "df1.sub(s, axis=1).head()"
      ],
      "execution_count": 39,
      "outputs": [
        {
          "output_type": "execute_result",
          "data": {
            "text/html": [
              "<div>\n",
              "<style scoped>\n",
              "    .dataframe tbody tr th:only-of-type {\n",
              "        vertical-align: middle;\n",
              "    }\n",
              "\n",
              "    .dataframe tbody tr th {\n",
              "        vertical-align: top;\n",
              "    }\n",
              "\n",
              "    .dataframe thead th {\n",
              "        text-align: right;\n",
              "    }\n",
              "</style>\n",
              "<table border=\"1\" class=\"dataframe\">\n",
              "  <thead>\n",
              "    <tr style=\"text-align: right;\">\n",
              "      <th></th>\n",
              "      <th>연도</th>\n",
              "      <th>월</th>\n",
              "    </tr>\n",
              "  </thead>\n",
              "  <tbody>\n",
              "    <tr>\n",
              "      <th>0</th>\n",
              "      <td>2014.0</td>\n",
              "      <td>9.0</td>\n",
              "    </tr>\n",
              "    <tr>\n",
              "      <th>1</th>\n",
              "      <td>2014.0</td>\n",
              "      <td>9.0</td>\n",
              "    </tr>\n",
              "    <tr>\n",
              "      <th>2</th>\n",
              "      <td>2014.0</td>\n",
              "      <td>9.0</td>\n",
              "    </tr>\n",
              "    <tr>\n",
              "      <th>3</th>\n",
              "      <td>2014.0</td>\n",
              "      <td>9.0</td>\n",
              "    </tr>\n",
              "    <tr>\n",
              "      <th>4</th>\n",
              "      <td>2014.0</td>\n",
              "      <td>9.0</td>\n",
              "    </tr>\n",
              "  </tbody>\n",
              "</table>\n",
              "</div>"
            ],
            "text/plain": [
              "       연도    월\n",
              "0  2014.0  9.0\n",
              "1  2014.0  9.0\n",
              "2  2014.0  9.0\n",
              "3  2014.0  9.0\n",
              "4  2014.0  9.0"
            ]
          },
          "metadata": {
            "tags": []
          },
          "execution_count": 39
        }
      ]
    },
    {
      "cell_type": "code",
      "metadata": {
        "colab": {
          "base_uri": "https://localhost:8080/",
          "height": 348
        },
        "id": "KqDoNJejLeB-",
        "outputId": "5c424138-4c2d-443d-cd2d-97ef056e2541"
      },
      "source": [
        "df1.apply(np.cumsum)[:10]"
      ],
      "execution_count": 42,
      "outputs": [
        {
          "output_type": "execute_result",
          "data": {
            "text/html": [
              "<div>\n",
              "<style scoped>\n",
              "    .dataframe tbody tr th:only-of-type {\n",
              "        vertical-align: middle;\n",
              "    }\n",
              "\n",
              "    .dataframe tbody tr th {\n",
              "        vertical-align: top;\n",
              "    }\n",
              "\n",
              "    .dataframe thead th {\n",
              "        text-align: right;\n",
              "    }\n",
              "</style>\n",
              "<table border=\"1\" class=\"dataframe\">\n",
              "  <thead>\n",
              "    <tr style=\"text-align: right;\">\n",
              "      <th></th>\n",
              "      <th>연도</th>\n",
              "      <th>월</th>\n",
              "    </tr>\n",
              "  </thead>\n",
              "  <tbody>\n",
              "    <tr>\n",
              "      <th>0</th>\n",
              "      <td>2015</td>\n",
              "      <td>10</td>\n",
              "    </tr>\n",
              "    <tr>\n",
              "      <th>1</th>\n",
              "      <td>4030</td>\n",
              "      <td>20</td>\n",
              "    </tr>\n",
              "    <tr>\n",
              "      <th>2</th>\n",
              "      <td>6045</td>\n",
              "      <td>30</td>\n",
              "    </tr>\n",
              "    <tr>\n",
              "      <th>3</th>\n",
              "      <td>8060</td>\n",
              "      <td>40</td>\n",
              "    </tr>\n",
              "    <tr>\n",
              "      <th>4</th>\n",
              "      <td>10075</td>\n",
              "      <td>50</td>\n",
              "    </tr>\n",
              "    <tr>\n",
              "      <th>5</th>\n",
              "      <td>12090</td>\n",
              "      <td>60</td>\n",
              "    </tr>\n",
              "    <tr>\n",
              "      <th>6</th>\n",
              "      <td>14105</td>\n",
              "      <td>70</td>\n",
              "    </tr>\n",
              "    <tr>\n",
              "      <th>7</th>\n",
              "      <td>16120</td>\n",
              "      <td>80</td>\n",
              "    </tr>\n",
              "    <tr>\n",
              "      <th>8</th>\n",
              "      <td>18135</td>\n",
              "      <td>90</td>\n",
              "    </tr>\n",
              "    <tr>\n",
              "      <th>9</th>\n",
              "      <td>20150</td>\n",
              "      <td>100</td>\n",
              "    </tr>\n",
              "  </tbody>\n",
              "</table>\n",
              "</div>"
            ],
            "text/plain": [
              "      연도    월\n",
              "0   2015   10\n",
              "1   4030   20\n",
              "2   6045   30\n",
              "3   8060   40\n",
              "4  10075   50\n",
              "5  12090   60\n",
              "6  14105   70\n",
              "7  16120   80\n",
              "8  18135   90\n",
              "9  20150  100"
            ]
          },
          "metadata": {
            "tags": []
          },
          "execution_count": 42
        }
      ]
    },
    {
      "cell_type": "code",
      "metadata": {
        "colab": {
          "base_uri": "https://localhost:8080/"
        },
        "id": "GjQutBStMsrG",
        "outputId": "b5b8b15a-addd-4761-e3ec-d0b5605237f2"
      },
      "source": [
        "df1.apply(lambda x: x.max() - x.min())"
      ],
      "execution_count": 45,
      "outputs": [
        {
          "output_type": "execute_result",
          "data": {
            "text/plain": [
              "연도     5\n",
              "월     11\n",
              "dtype: int64"
            ]
          },
          "metadata": {
            "tags": []
          },
          "execution_count": 45
        }
      ]
    },
    {
      "cell_type": "code",
      "metadata": {
        "colab": {
          "base_uri": "https://localhost:8080/"
        },
        "id": "M1gggcqLNgkG",
        "outputId": "4c68e100-6a81-44f3-d8b4-90546cb78d4c"
      },
      "source": [
        "df1['연도'].value_counts()"
      ],
      "execution_count": 50,
      "outputs": [
        {
          "output_type": "execute_result",
          "data": {
            "text/plain": [
              "2019    1020\n",
              "2018    1020\n",
              "2017    1020\n",
              "2016    1020\n",
              "2015     255\n",
              "2020     255\n",
              "Name: 연도, dtype: int64"
            ]
          },
          "metadata": {
            "tags": []
          },
          "execution_count": 50
        }
      ]
    },
    {
      "cell_type": "code",
      "metadata": {
        "colab": {
          "base_uri": "https://localhost:8080/"
        },
        "id": "tA_Nh1YzOB8Z",
        "outputId": "f35a08a0-3307-4830-a72a-041ddbe4d431"
      },
      "source": [
        "df['규모구분'].value_counts()"
      ],
      "execution_count": 52,
      "outputs": [
        {
          "output_type": "execute_result",
          "data": {
            "text/plain": [
              "전용면적 85㎡초과 102㎡이하    918\n",
              "전용면적 60㎡이하           918\n",
              "전체                   918\n",
              "전용면적 60㎡초과 85㎡이하     918\n",
              "전용면적 102㎡초과          918\n",
              "Name: 규모구분, dtype: int64"
            ]
          },
          "metadata": {
            "tags": []
          },
          "execution_count": 52
        }
      ]
    }
  ]
}